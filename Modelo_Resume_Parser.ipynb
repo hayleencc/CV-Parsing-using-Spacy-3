{
  "cells": [
    {
      "cell_type": "markdown",
      "metadata": {
        "id": "view-in-github",
        "colab_type": "text"
      },
      "source": [
        "<a href=\"https://colab.research.google.com/github/hayleencc/CV-Parsing-using-Spacy-3/blob/master/Modelo_Resume_Parser.ipynb\" target=\"_parent\"><img src=\"https://colab.research.google.com/assets/colab-badge.svg\" alt=\"Open In Colab\"/></a>"
      ]
    },
    {
      "cell_type": "markdown",
      "metadata": {
        "id": "mJfntbGp66mP"
      },
      "source": [
        "# **Proyecto de Inteligencia Artificial: Analizador de currículos de vida**\n",
        "\n",
        "---\n",
        "\n",
        "####**Grupo 5**\n",
        "####**Integrantes:**\n",
        "\n",
        "*   Hayleen Carrillo 🙂\n",
        "*   Natalia Mawyin 🙂\n",
        "*   Gabriela Pazmiño 🙂\n",
        "\n",
        "####**I PAO 2022**"
      ]
    },
    {
      "cell_type": "code",
      "execution_count": null,
      "metadata": {
        "colab": {
          "base_uri": "https://localhost:8080/"
        },
        "id": "ajbUfVd-kgB1",
        "outputId": "f297a428-0572-46ce-b95d-e029dd925b71"
      },
      "outputs": [
        {
          "output_type": "stream",
          "name": "stdout",
          "text": [
            "Cloning into 'ml_analizadorCurriculos'...\n",
            "remote: Enumerating objects: 436, done.\u001b[K\n",
            "remote: Counting objects: 100% (16/16), done.\u001b[K\n",
            "remote: Compressing objects: 100% (15/15), done.\u001b[K\n",
            "remote: Total 436 (delta 3), reused 3 (delta 0), pack-reused 420\u001b[K\n",
            "Receiving objects: 100% (436/436), 98.58 MiB | 36.26 MiB/s, done.\n",
            "Resolving deltas: 100% (6/6), done.\n"
          ]
        }
      ],
      "source": [
        "!git clone https://github.com/NataliaMw/ml_analizadorCurriculos.git"
      ]
    },
    {
      "cell_type": "code",
      "execution_count": null,
      "metadata": {
        "id": "FnGTDkXm76cd"
      },
      "outputs": [],
      "source": [
        "#from google.colab import drive\n",
        "#drive.mount('/content/drive')"
      ]
    },
    {
      "cell_type": "code",
      "execution_count": null,
      "metadata": {
        "id": "ZnFzbVX8zWe-"
      },
      "outputs": [],
      "source": [
        "pdfs_dir = '/content/ml_analizadorCurriculos/curriculos_pdf'"
      ]
    },
    {
      "cell_type": "code",
      "execution_count": null,
      "metadata": {
        "colab": {
          "base_uri": "https://localhost:8080/"
        },
        "id": "OFHJSR2xD1-m",
        "outputId": "128a92b8-94d0-4278-d465-35a3e9cc6662"
      },
      "outputs": [
        {
          "output_type": "stream",
          "name": "stdout",
          "text": [
            "['/content/ml_analizadorCurriculos/curriculos_pdf/Profile (17).pdf', '/content/ml_analizadorCurriculos/curriculos_pdf/CURRICULUM VITAE JHONSON.pdf', '/content/ml_analizadorCurriculos/curriculos_pdf/Profile (57).pdf', '/content/ml_analizadorCurriculos/curriculos_pdf/CURRICULUM JARITZA.pdf', '/content/ml_analizadorCurriculos/curriculos_pdf/Profile - 2022-08-22T225944.178.pdf', '/content/ml_analizadorCurriculos/curriculos_pdf/HELEN LOOR CURRICULUM.pdf', '/content/ml_analizadorCurriculos/curriculos_pdf/Profile - 2022-08-22T235155.492.pdf', '/content/ml_analizadorCurriculos/curriculos_pdf/curriculo Rodriguez.pdf', '/content/ml_analizadorCurriculos/curriculos_pdf/Cristopher Cañarte (4).pdf', '/content/ml_analizadorCurriculos/curriculos_pdf/Profile - 2022-08-22T231733.336.pdf', '/content/ml_analizadorCurriculos/curriculos_pdf/Profile (21).pdf', '/content/ml_analizadorCurriculos/curriculos_pdf/Profile (12).pdf', '/content/ml_analizadorCurriculos/curriculos_pdf/Profile (82).pdf', '/content/ml_analizadorCurriculos/curriculos_pdf/Curriculum Ing Edgar Huerta - MSc. - 21.pdf', '/content/ml_analizadorCurriculos/curriculos_pdf/Profile (100).pdf', '/content/ml_analizadorCurriculos/curriculos_pdf/Profile - 2022-08-22T225422.784.pdf', '/content/ml_analizadorCurriculos/curriculos_pdf/CV_ KAREN A.M.pdf', '/content/ml_analizadorCurriculos/curriculos_pdf/Hoja de Vida Ronny Benitez - Gabriel Benitez.pdf', '/content/ml_analizadorCurriculos/curriculos_pdf/Hoja de Vida DANIEL.pdf', '/content/ml_analizadorCurriculos/curriculos_pdf/HOJA_VIDA_0201492683 (1) (1).pdf', '/content/ml_analizadorCurriculos/curriculos_pdf/Nicolás Leonardo Mármol CV 2021.pdf', '/content/ml_analizadorCurriculos/curriculos_pdf/Hoja de Vida word Luis Intriago Alcívar-convertido.pdf', '/content/ml_analizadorCurriculos/curriculos_pdf/Profile - 2022-08-23T002247.036.pdf', '/content/ml_analizadorCurriculos/curriculos_pdf/Profile - 2022-08-23T001932.227.pdf', '/content/ml_analizadorCurriculos/curriculos_pdf/SALAZAR.pdf', '/content/ml_analizadorCurriculos/curriculos_pdf/Profile - 2022-08-22T225350.201.pdf', '/content/ml_analizadorCurriculos/curriculos_pdf/Profile (4).pdf', '/content/ml_analizadorCurriculos/curriculos_pdf/Profile - 2022-08-22T235415.361.pdf', '/content/ml_analizadorCurriculos/curriculos_pdf/Profile (42).pdf', '/content/ml_analizadorCurriculos/curriculos_pdf/Profile (64).pdf', '/content/ml_analizadorCurriculos/curriculos_pdf/Profile - 2022-08-22T234706.730.pdf', '/content/ml_analizadorCurriculos/curriculos_pdf/Profile - 2022-08-23T000948.674.pdf', '/content/ml_analizadorCurriculos/curriculos_pdf/CV JOSÉ LOZANO - PASANTE PRODUCCIÓN.pdf', '/content/ml_analizadorCurriculos/curriculos_pdf/Profile (41).pdf', '/content/ml_analizadorCurriculos/curriculos_pdf/Curriculum Vitae - Elio Cables.pdf', '/content/ml_analizadorCurriculos/curriculos_pdf/Profile (32).pdf', '/content/ml_analizadorCurriculos/curriculos_pdf/Curriculum-2.pdf', '/content/ml_analizadorCurriculos/curriculos_pdf/Profile (50).pdf', '/content/ml_analizadorCurriculos/curriculos_pdf/Profile - 2022-08-22T230009.980.pdf', '/content/ml_analizadorCurriculos/curriculos_pdf/Hoja de vida MALAGON.pdf', '/content/ml_analizadorCurriculos/curriculos_pdf/Profile (77).pdf', '/content/ml_analizadorCurriculos/curriculos_pdf/Profile - 2022-08-22T230259.644.pdf', '/content/ml_analizadorCurriculos/curriculos_pdf/Profile - 2022-08-23T002304.477.pdf', '/content/ml_analizadorCurriculos/curriculos_pdf/Profile (19).pdf', '/content/ml_analizadorCurriculos/curriculos_pdf/Profile (56).pdf', '/content/ml_analizadorCurriculos/curriculos_pdf/Profile - 2022-08-22T225408.329.pdf', '/content/ml_analizadorCurriculos/curriculos_pdf/CURRICULUM Jordan.pdf', '/content/ml_analizadorCurriculos/curriculos_pdf/Profile - 2022-08-22T230609.417.pdf', '/content/ml_analizadorCurriculos/curriculos_pdf/Profile - 2022-08-22T234019.905.pdf', '/content/ml_analizadorCurriculos/curriculos_pdf/BLANCA DELGADO HOJA_VIDA_1310766843.pdf', '/content/ml_analizadorCurriculos/curriculos_pdf/Profile (73).pdf', '/content/ml_analizadorCurriculos/curriculos_pdf/Profile - 2022-08-23T002622.746.pdf', '/content/ml_analizadorCurriculos/curriculos_pdf/CV 121.pdf', '/content/ml_analizadorCurriculos/curriculos_pdf/Profile - 2022-08-23T002427.281.pdf', '/content/ml_analizadorCurriculos/curriculos_pdf/Hoja de vida 2021 - Aylin Ortega.doc.pdf', '/content/ml_analizadorCurriculos/curriculos_pdf/Profile - 2022-08-23T000543.788.pdf', '/content/ml_analizadorCurriculos/curriculos_pdf/Profile - 2022-08-22T225327.943.pdf', '/content/ml_analizadorCurriculos/curriculos_pdf/Profile (88).pdf', '/content/ml_analizadorCurriculos/curriculos_pdf/Profile - 2022-08-22T233318.896.pdf', '/content/ml_analizadorCurriculos/curriculos_pdf/Profile (1).pdf', '/content/ml_analizadorCurriculos/curriculos_pdf/curriculum vitae(1)(1).pdf', '/content/ml_analizadorCurriculos/curriculos_pdf/Profile (43).pdf', '/content/ml_analizadorCurriculos/curriculos_pdf/CV_Daniel fajardo salcedo.pdf', '/content/ml_analizadorCurriculos/curriculos_pdf/Profile - 2022-08-22T231813.625.pdf', '/content/ml_analizadorCurriculos/curriculos_pdf/Ing. Fernando Lara Andagoya.pdf', '/content/ml_analizadorCurriculos/curriculos_pdf/Currículum Profesional NARCISA VILLAVICENCIO.pdf', '/content/ml_analizadorCurriculos/curriculos_pdf/CURRICULUM JHONNY (1).pdf', '/content/ml_analizadorCurriculos/curriculos_pdf/Profile - 2022-08-22T224805.811.pdf', '/content/ml_analizadorCurriculos/curriculos_pdf/Profile - 2022-08-22T233119.222.pdf', '/content/ml_analizadorCurriculos/curriculos_pdf/Profile - 2022-08-22T235323.275.pdf', '/content/ml_analizadorCurriculos/curriculos_pdf/Profile - 2022-08-22T225457.564.pdf', '/content/ml_analizadorCurriculos/curriculos_pdf/PAMELA-CORDOVA-CV (1).pdf', '/content/ml_analizadorCurriculos/curriculos_pdf/Profile - 2022-08-22T231903.449.pdf', '/content/ml_analizadorCurriculos/curriculos_pdf/CV CARLOS AUGUSTO.pdf', '/content/ml_analizadorCurriculos/curriculos_pdf/Profile (59).pdf', '/content/ml_analizadorCurriculos/curriculos_pdf/Profile - 2022-08-22T233735.054.pdf', '/content/ml_analizadorCurriculos/curriculos_pdf/Profile - 2022-08-22T225817.212.pdf', '/content/ml_analizadorCurriculos/curriculos_pdf/Curriculum_Vitae_actualizado_Carlos_Vallejo__1658876507.pdf', '/content/ml_analizadorCurriculos/curriculos_pdf/SASF - Perfil Profesional - Milen Ortega - Milen Ortega Mautong.docx.pdf', '/content/ml_analizadorCurriculos/curriculos_pdf/CV. Lcda. Evelyn Montalvo .pdf', '/content/ml_analizadorCurriculos/curriculos_pdf/Profile (20).pdf', '/content/ml_analizadorCurriculos/curriculos_pdf/CURRICULUM Steven.pdf', '/content/ml_analizadorCurriculos/curriculos_pdf/Profile (26).pdf', '/content/ml_analizadorCurriculos/curriculos_pdf/Profile - 2022-08-22T233035.506.pdf', '/content/ml_analizadorCurriculos/curriculos_pdf/CV Srita Gabriela Pazmiño Guerreo.pdf', '/content/ml_analizadorCurriculos/curriculos_pdf/Profile - 2022-08-23T000120.025.pdf', '/content/ml_analizadorCurriculos/curriculos_pdf/Profile - 2022-08-23T000802.679.pdf', '/content/ml_analizadorCurriculos/curriculos_pdf/Curriculum vitae- Carlos Paez - carlos paez.pdf', '/content/ml_analizadorCurriculos/curriculos_pdf/Profile - 2022-08-22T235340.427.pdf', '/content/ml_analizadorCurriculos/curriculos_pdf/Veliz Anchundia Omar Alexander CV.pdf', '/content/ml_analizadorCurriculos/curriculos_pdf/CV Geología.pdf', '/content/ml_analizadorCurriculos/curriculos_pdf/Alejandro Aquiño.pdf', '/content/ml_analizadorCurriculos/curriculos_pdf/Profile (47).pdf', '/content/ml_analizadorCurriculos/curriculos_pdf/Profile - 2022-08-22T230018.293.pdf', '/content/ml_analizadorCurriculos/curriculos_pdf/HOJA DE VIDA .pdf', '/content/ml_analizadorCurriculos/curriculos_pdf/CurriculumVitae.pdf', '/content/ml_analizadorCurriculos/curriculos_pdf/Profile (10).pdf', '/content/ml_analizadorCurriculos/curriculos_pdf/Profile - 2022-08-22T225040.171.pdf', '/content/ml_analizadorCurriculos/curriculos_pdf/CV- Arq. Carolina Véliz 2022.pdf', '/content/ml_analizadorCurriculos/curriculos_pdf/CV-MARIA BALDEON - María Baldeon.pdf', '/content/ml_analizadorCurriculos/curriculos_pdf/CURRICULUM VITAE EILEEN (1).pdf', '/content/ml_analizadorCurriculos/curriculos_pdf/Profile - 2022-08-22T233151.438.pdf', '/content/ml_analizadorCurriculos/curriculos_pdf/Profile - 2022-08-22T235029.937.pdf', '/content/ml_analizadorCurriculos/curriculos_pdf/CV - Cedeño Hermida Keyla.pdf', '/content/ml_analizadorCurriculos/curriculos_pdf/Profile (44).pdf', '/content/ml_analizadorCurriculos/curriculos_pdf/Profile - 2022-08-22T230000.742.pdf', '/content/ml_analizadorCurriculos/curriculos_pdf/HOJA_VIDA_0955605407.pdf', '/content/ml_analizadorCurriculos/curriculos_pdf/Profile (61).pdf', '/content/ml_analizadorCurriculos/curriculos_pdf/Profile - 2022-08-22T234050.242.pdf', '/content/ml_analizadorCurriculos/curriculos_pdf/Profile - 2022-08-22T231435.569.pdf', '/content/ml_analizadorCurriculos/curriculos_pdf/Profile 222222.pdf', '/content/ml_analizadorCurriculos/curriculos_pdf/Profile (46).pdf', '/content/ml_analizadorCurriculos/curriculos_pdf/CV Santiago Yunes Chica (1).pdf', '/content/ml_analizadorCurriculos/curriculos_pdf/Profile (75).pdf', '/content/ml_analizadorCurriculos/curriculos_pdf/Profile - 2022-08-22T233231.981.pdf', '/content/ml_analizadorCurriculos/curriculos_pdf/Profile (25).pdf', '/content/ml_analizadorCurriculos/curriculos_pdf/Profile (36).pdf', '/content/ml_analizadorCurriculos/curriculos_pdf/Profile - 2022-08-23T002023.220.pdf', '/content/ml_analizadorCurriculos/curriculos_pdf/Profile - 2022-08-22T232940.109.pdf', '/content/ml_analizadorCurriculos/curriculos_pdf/Profile (6).pdf', '/content/ml_analizadorCurriculos/curriculos_pdf/Juan_Xavier_Pita_Elias_-_Estudiante.pdf', '/content/ml_analizadorCurriculos/curriculos_pdf/CURRICULUM VITAE - JORDY MOREIRA (3).pdf', '/content/ml_analizadorCurriculos/curriculos_pdf/HOJA DE VIDA CV.pdf', '/content/ml_analizadorCurriculos/curriculos_pdf/Profile - 2022-08-22T230141.550.pdf', '/content/ml_analizadorCurriculos/curriculos_pdf/Profile - 2022-08-22T230153.312.pdf', '/content/ml_analizadorCurriculos/curriculos_pdf/HOJA DE VIDA PETER actual.pdf', '/content/ml_analizadorCurriculos/curriculos_pdf/CURRÍCULO KAREN MARTÍNEZ CARVAJAL .pdf', '/content/ml_analizadorCurriculos/curriculos_pdf/HOJA DE VIDA-AYLIS DELGADO MOLINA  - Aylis Delgado Molina.pdf', '/content/ml_analizadorCurriculos/curriculos_pdf/CV.Erick.pdf', '/content/ml_analizadorCurriculos/curriculos_pdf/Profile - 2022-08-23T002343.375.pdf', '/content/ml_analizadorCurriculos/curriculos_pdf/Profile - 2022-08-22T234617.661.pdf', '/content/ml_analizadorCurriculos/curriculos_pdf/Profile - 2022-08-22T231634.446.pdf', '/content/ml_analizadorCurriculos/curriculos_pdf/JULIO PARRA CV.pdf', '/content/ml_analizadorCurriculos/curriculos_pdf/EfrenParraCV.pdf', '/content/ml_analizadorCurriculos/curriculos_pdf/Curriculo- Beltrán Demera, María Pía.pdf', '/content/ml_analizadorCurriculos/curriculos_pdf/Profile - 2022-08-22T225623.372.pdf', '/content/ml_analizadorCurriculos/curriculos_pdf/CV 126.pdf', '/content/ml_analizadorCurriculos/curriculos_pdf/CV SUANNY CAJAMARCA.pdf', '/content/ml_analizadorCurriculos/curriculos_pdf/CURRICULUM KATHI 1.pdf', '/content/ml_analizadorCurriculos/curriculos_pdf/Profile (84).pdf', '/content/ml_analizadorCurriculos/curriculos_pdf/Profile (9).pdf', '/content/ml_analizadorCurriculos/curriculos_pdf/HOJA DE VIDA ERIKA - copia.pdf', '/content/ml_analizadorCurriculos/curriculos_pdf/Profile (18).pdf', '/content/ml_analizadorCurriculos/curriculos_pdf/Profile - 2022-08-22T224746.987.pdf', '/content/ml_analizadorCurriculos/curriculos_pdf/Profile - 2022-08-22T230422.548.pdf', '/content/ml_analizadorCurriculos/curriculos_pdf/Profile - 2022-08-22T231450.784.pdf', '/content/ml_analizadorCurriculos/curriculos_pdf/10abMetricsandEvaluation v2-1.pdf', '/content/ml_analizadorCurriculos/curriculos_pdf/CV Paula Benites - Paula Benites.pdf', '/content/ml_analizadorCurriculos/curriculos_pdf/Profile (95).pdf', '/content/ml_analizadorCurriculos/curriculos_pdf/Profile (38).pdf', '/content/ml_analizadorCurriculos/curriculos_pdf/CV-SMCM-2022.pdf', '/content/ml_analizadorCurriculos/curriculos_pdf/CURRICULUM Josue Barros.pdf', '/content/ml_analizadorCurriculos/curriculos_pdf/Profile - 2022-08-22T235116.408.pdf', '/content/ml_analizadorCurriculos/curriculos_pdf/hoja de vida CAICEDO COBO CRISTINA CUMANDA.pdf', '/content/ml_analizadorCurriculos/curriculos_pdf/Profile (11).pdf', '/content/ml_analizadorCurriculos/curriculos_pdf/CV Gerson Yuquilema.pdf', '/content/ml_analizadorCurriculos/curriculos_pdf/Profile - 2022-08-22T234756.693.pdf', '/content/ml_analizadorCurriculos/curriculos_pdf/HOJA_VIDA_0400680427.pdf', '/content/ml_analizadorCurriculos/curriculos_pdf/C.V. Peter Zuñiga Castro.pdf', '/content/ml_analizadorCurriculos/curriculos_pdf/Profile - 2022-08-22T235138.520.pdf', '/content/ml_analizadorCurriculos/curriculos_pdf/Cv Daniel Castillo es.pdf', '/content/ml_analizadorCurriculos/curriculos_pdf/CV 129.pdf', '/content/ml_analizadorCurriculos/curriculos_pdf/CV 122.pdf', '/content/ml_analizadorCurriculos/curriculos_pdf/CV Marjorie Hidalgo (1).pdf', '/content/ml_analizadorCurriculos/curriculos_pdf/Profile (22).pdf', '/content/ml_analizadorCurriculos/curriculos_pdf/Profile (62).pdf', '/content/ml_analizadorCurriculos/curriculos_pdf/Profile (85).pdf', '/content/ml_analizadorCurriculos/curriculos_pdf/CV - Espinal Pin Jaylee Nallely - Jaylee Espinal Pin.pdf', '/content/ml_analizadorCurriculos/curriculos_pdf/Profile (93).pdf', '/content/ml_analizadorCurriculos/curriculos_pdf/Curriculum Vitae.pdf', '/content/ml_analizadorCurriculos/curriculos_pdf/Profile - 2022-08-22T230110.385.pdf', '/content/ml_analizadorCurriculos/curriculos_pdf/Profile - 2022-08-23T002603.701.pdf', '/content/ml_analizadorCurriculos/curriculos_pdf/CV GISELLE LUCERO LÓPEZ..pdf', '/content/ml_analizadorCurriculos/curriculos_pdf/Profile (87).pdf', '/content/ml_analizadorCurriculos/curriculos_pdf/Profile - 2022-08-23T002234.207.pdf', '/content/ml_analizadorCurriculos/curriculos_pdf/Profile (16).pdf', '/content/ml_analizadorCurriculos/curriculos_pdf/Profile - 2022-08-23T000608.726.pdf', '/content/ml_analizadorCurriculos/curriculos_pdf/Hoja de vida Andrea - CV.pdf', '/content/ml_analizadorCurriculos/curriculos_pdf/Profile (41)(1).pdf', '/content/ml_analizadorCurriculos/curriculos_pdf/Profile 444444.pdf', '/content/ml_analizadorCurriculos/curriculos_pdf/CV. Daniel Chenche - Daniel Chenche.docx.pdf', '/content/ml_analizadorCurriculos/curriculos_pdf/Ehiner Legarda CV(Español).pdf', '/content/ml_analizadorCurriculos/curriculos_pdf/Profile - 2022-08-22T225451.547.pdf', '/content/ml_analizadorCurriculos/curriculos_pdf/CV Angie Katherine Moran Vargas.pdf', '/content/ml_analizadorCurriculos/curriculos_pdf/Profile - 2022-08-23T001909.427.pdf', '/content/ml_analizadorCurriculos/curriculos_pdf/Profile - 2022-08-22T230322.428.pdf', '/content/ml_analizadorCurriculos/curriculos_pdf/CV. Santiago Tapia.pdf', '/content/ml_analizadorCurriculos/curriculos_pdf/Profile - 2022-08-22T230546.652.pdf', '/content/ml_analizadorCurriculos/curriculos_pdf/HOJA DE VIDA ACTUALIZADA.pdf', '/content/ml_analizadorCurriculos/curriculos_pdf/Profile - 2022-08-22T233131.125.pdf', '/content/ml_analizadorCurriculos/curriculos_pdf/Profile - 2022-08-22T232856.303.pdf', '/content/ml_analizadorCurriculos/curriculos_pdf/HOJA_VIDA.pdf', '/content/ml_analizadorCurriculos/curriculos_pdf/CV Nayade López Proaño.pdf', '/content/ml_analizadorCurriculos/curriculos_pdf/Profile (31).pdf', '/content/ml_analizadorCurriculos/curriculos_pdf/Profile - 2022-08-23T000821.084.pdf', '/content/ml_analizadorCurriculos/curriculos_pdf/luis silva morales xs (1).pdf', '/content/ml_analizadorCurriculos/curriculos_pdf/Profile - 2022-08-22T234528.218.pdf', '/content/ml_analizadorCurriculos/curriculos_pdf/RiveraMelissa2022.pdf', '/content/ml_analizadorCurriculos/curriculos_pdf/Profile - 2022-08-23T002257.781.pdf', '/content/ml_analizadorCurriculos/curriculos_pdf/Profile - 2022-08-23T001441.127.pdf', '/content/ml_analizadorCurriculos/curriculos_pdf/HOJA DE VIDA_TORRES.BETSAIDA.pdf', '/content/ml_analizadorCurriculos/curriculos_pdf/CV SHAJALY IBETH RUIZ VERA.pdf', '/content/ml_analizadorCurriculos/curriculos_pdf/Profile (49).pdf', '/content/ml_analizadorCurriculos/curriculos_pdf/Profile - 2022-08-22T225936.053.pdf', '/content/ml_analizadorCurriculos/curriculos_pdf/DIXON_20CURRICULO.pdf', '/content/ml_analizadorCurriculos/curriculos_pdf/CV Marco Del Rosario.pdf', '/content/ml_analizadorCurriculos/curriculos_pdf/Profile (81).pdf', '/content/ml_analizadorCurriculos/curriculos_pdf/Curriculum Vitae -Jean Figueroa - Ingeniero Mecánico.pdf', '/content/ml_analizadorCurriculos/curriculos_pdf/Profile - 2022-08-22T234450.160.pdf', '/content/ml_analizadorCurriculos/curriculos_pdf/Profile - 2022-08-22T225514.118.pdf', '/content/ml_analizadorCurriculos/curriculos_pdf/Profile (89).pdf', '/content/ml_analizadorCurriculos/curriculos_pdf/CURRICULO JOHANA CARRILLO - Just Heaven.pdf', '/content/ml_analizadorCurriculos/curriculos_pdf/CV 125.pdf', '/content/ml_analizadorCurriculos/curriculos_pdf/Steven Herrera - Curriculum.pdf', '/content/ml_analizadorCurriculos/curriculos_pdf/Profile - 2022-08-22T231721.380.pdf', '/content/ml_analizadorCurriculos/curriculos_pdf/HOJA DE VIDA NALLELY MACIAS VILLAMAR.pdf', '/content/ml_analizadorCurriculos/curriculos_pdf/Profile (76).pdf', '/content/ml_analizadorCurriculos/curriculos_pdf/CV 128.pdf', '/content/ml_analizadorCurriculos/curriculos_pdf/Profile (97).pdf', '/content/ml_analizadorCurriculos/curriculos_pdf/Profile (91).pdf', '/content/ml_analizadorCurriculos/curriculos_pdf/Hoja de Vida - Joselyne Soledispa Mezones - Joselyne Estefanía Soledispa Mezones.pdf', '/content/ml_analizadorCurriculos/curriculos_pdf/Profile - 2022-08-22T230025.925.pdf', '/content/ml_analizadorCurriculos/curriculos_pdf/CV 124.pdf', '/content/ml_analizadorCurriculos/curriculos_pdf/Profile - 2022-08-22T230100.982.pdf', '/content/ml_analizadorCurriculos/curriculos_pdf/Profile (69).pdf', '/content/ml_analizadorCurriculos/curriculos_pdf/Profile - 2022-08-23T002225.548.pdf', '/content/ml_analizadorCurriculos/curriculos_pdf/Profile - 2022-08-22T234917.802.pdf', '/content/ml_analizadorCurriculos/curriculos_pdf/Profile - 2022-08-22T234649.585.pdf', '/content/ml_analizadorCurriculos/curriculos_pdf/Profile - 2022-08-23T002452.122.pdf', '/content/ml_analizadorCurriculos/curriculos_pdf/Profile (15).pdf', '/content/ml_analizadorCurriculos/curriculos_pdf/Profile - 2022-08-22T232349.805.pdf', '/content/ml_analizadorCurriculos/curriculos_pdf/Michel Vargas - CV - español Abril 2022ar.pdf', '/content/ml_analizadorCurriculos/curriculos_pdf/curriculo robert.pdf', '/content/ml_analizadorCurriculos/curriculos_pdf/CV_MATHIAS_HAAS_2022.pdf', '/content/ml_analizadorCurriculos/curriculos_pdf/Profile (79).pdf', '/content/ml_analizadorCurriculos/curriculos_pdf/CVG - Hayleen Carrillo - Hayleen Carrillo.pdf', '/content/ml_analizadorCurriculos/curriculos_pdf/Profile (96).pdf', '/content/ml_analizadorCurriculos/curriculos_pdf/Profile (67).pdf', '/content/ml_analizadorCurriculos/curriculos_pdf/Profile - 2022-08-22T225415.272.pdf', '/content/ml_analizadorCurriculos/curriculos_pdf/Profile - 2022-08-22T230119.058.pdf', '/content/ml_analizadorCurriculos/curriculos_pdf/Profile - 2022-08-23T002356.449.pdf', '/content/ml_analizadorCurriculos/curriculos_pdf/CV_OmarCoello.pdf', '/content/ml_analizadorCurriculos/curriculos_pdf/CV Robert Ochoa.pdf', '/content/ml_analizadorCurriculos/curriculos_pdf/Profile - 2022-08-22T231621.301.pdf', '/content/ml_analizadorCurriculos/curriculos_pdf/Profile (92).pdf', '/content/ml_analizadorCurriculos/curriculos_pdf/CURRICULUM VITAE Merino.pdf', '/content/ml_analizadorCurriculos/curriculos_pdf/Profile (37).pdf', '/content/ml_analizadorCurriculos/curriculos_pdf/Profile - 2022-08-22T231949.221.pdf', '/content/ml_analizadorCurriculos/curriculos_pdf/Profile (8).pdf', '/content/ml_analizadorCurriculos/curriculos_pdf/Profile (48).pdf', '/content/ml_analizadorCurriculos/curriculos_pdf/Profile - 2022-08-23T000638.854.pdf', '/content/ml_analizadorCurriculos/curriculos_pdf/cv actualizado.pdf', '/content/ml_analizadorCurriculos/curriculos_pdf/Axel_Narvaez_2019.pdf', '/content/ml_analizadorCurriculos/curriculos_pdf/Profile - 2022-08-22T235758.845.pdf', '/content/ml_analizadorCurriculos/curriculos_pdf/Profile - 2022-08-22T230248.764.pdf', '/content/ml_analizadorCurriculos/curriculos_pdf/Profile - 2022-08-23T002419.045.pdf', '/content/ml_analizadorCurriculos/curriculos_pdf/Profile (29).pdf', '/content/ml_analizadorCurriculos/curriculos_pdf/BaquerizoGénesis_CV.pdf', '/content/ml_analizadorCurriculos/curriculos_pdf/Profile (78).pdf', '/content/ml_analizadorCurriculos/curriculos_pdf/Profile (39).pdf', '/content/ml_analizadorCurriculos/curriculos_pdf/Profile (27).pdf', '/content/ml_analizadorCurriculos/curriculos_pdf/Profile - 2022-08-22T233101.312.pdf', '/content/ml_analizadorCurriculos/curriculos_pdf/Profile (5).pdf', '/content/ml_analizadorCurriculos/curriculos_pdf/Profile - 2022-08-22T231745.999.pdf', '/content/ml_analizadorCurriculos/curriculos_pdf/CV Pablo Mendieta feb 2022.pdf', '/content/ml_analizadorCurriculos/curriculos_pdf/Profile (83).pdf', '/content/ml_analizadorCurriculos/curriculos_pdf/cv MAGALY MORILLO B.pdf', '/content/ml_analizadorCurriculos/curriculos_pdf/Profile - 2022-08-22T232802.001.pdf', '/content/ml_analizadorCurriculos/curriculos_pdf/Profile - 2022-08-23T002636.775.pdf', '/content/ml_analizadorCurriculos/curriculos_pdf/Profile - 2022-08-22T225754.497.pdf', '/content/ml_analizadorCurriculos/curriculos_pdf/Profile - 2022-08-23T001954.989.pdf', '/content/ml_analizadorCurriculos/curriculos_pdf/Profile 94954.pdf', '/content/ml_analizadorCurriculos/curriculos_pdf/OROZCO.pdf', '/content/ml_analizadorCurriculos/curriculos_pdf/Profile - 2022-08-22T225044.722.pdf', '/content/ml_analizadorCurriculos/curriculos_pdf/Profile - 2022-08-22T234110.508.pdf', '/content/ml_analizadorCurriculos/curriculos_pdf/Profile - 2022-08-22T225704.747.pdf', '/content/ml_analizadorCurriculos/curriculos_pdf/Profile - 2022-08-22T234844.097.pdf', '/content/ml_analizadorCurriculos/curriculos_pdf/Profile - 2022-08-23T002748.888.pdf', '/content/ml_analizadorCurriculos/curriculos_pdf/Profile - 2022-08-22T230214.723.pdf', '/content/ml_analizadorCurriculos/curriculos_pdf/CV GABRIEL.pdf', '/content/ml_analizadorCurriculos/curriculos_pdf/Profile - 2022-08-22T234901.799.pdf', '/content/ml_analizadorCurriculos/curriculos_pdf/Profile - 2022-08-23T001832.326.pdf', '/content/ml_analizadorCurriculos/curriculos_pdf/CURRICULUM 1.pdf', '/content/ml_analizadorCurriculos/curriculos_pdf/Profile - 2022-08-22T232820.183.pdf', '/content/ml_analizadorCurriculos/curriculos_pdf/Profile - 2022-08-22T225343.694.pdf', '/content/ml_analizadorCurriculos/curriculos_pdf/Profile - 2022-08-23T002549.870.pdf', '/content/ml_analizadorCurriculos/curriculos_pdf/Profile - 2022-08-22T225639.281.pdf', '/content/ml_analizadorCurriculos/curriculos_pdf/Profile (66).pdf', '/content/ml_analizadorCurriculos/curriculos_pdf/HOJA_VIDA_ACOSTA.pdf', '/content/ml_analizadorCurriculos/curriculos_pdf/Profile - 2022-08-22T233638.864.pdf', '/content/ml_analizadorCurriculos/curriculos_pdf/Profile (63).pdf', '/content/ml_analizadorCurriculos/curriculos_pdf/ACV-CV-ARQ.pdf', '/content/ml_analizadorCurriculos/curriculos_pdf/CV - KATHERINE SOTO.pdf', '/content/ml_analizadorCurriculos/curriculos_pdf/CURRICULO GENESIS PLUAS(1).pdf', '/content/ml_analizadorCurriculos/curriculos_pdf/Profile - 2022-08-22T225632.000.pdf', '/content/ml_analizadorCurriculos/curriculos_pdf/CV ANDRES MADERA.pdf', '/content/ml_analizadorCurriculos/curriculos_pdf/Profile - 2022-08-23T000242.773.pdf', '/content/ml_analizadorCurriculos/curriculos_pdf/Profile (13).pdf', '/content/ml_analizadorCurriculos/curriculos_pdf/CERVANTES.pdf', '/content/ml_analizadorCurriculos/curriculos_pdf/Profile - 2022-08-22T225810.861.pdf', '/content/ml_analizadorCurriculos/curriculos_pdf/CURRICULUM VITAE RAUL QUIMIS.pdf', '/content/ml_analizadorCurriculos/curriculos_pdf/VictorMoyanoCV.pdf', '/content/ml_analizadorCurriculos/curriculos_pdf/Profile - 2022-08-22T230049.357.pdf', '/content/ml_analizadorCurriculos/curriculos_pdf/Profile (99).pdf', '/content/ml_analizadorCurriculos/curriculos_pdf/Profile (72).pdf', '/content/ml_analizadorCurriculos/curriculos_pdf/Profile (74).pdf', '/content/ml_analizadorCurriculos/curriculos_pdf/Profile (65).pdf', '/content/ml_analizadorCurriculos/curriculos_pdf/GERARDO POZO - Gerardo Pozo.pdf', '/content/ml_analizadorCurriculos/curriculos_pdf/CV.ALESSANDROV.pdf', '/content/ml_analizadorCurriculos/curriculos_pdf/HOJA_VIDA_Lyan_Dávila-1 - LYAN MAYLING DAVILA CARDENAS.pdf', '/content/ml_analizadorCurriculos/curriculos_pdf/Resume Daniel.pdf', '/content/ml_analizadorCurriculos/curriculos_pdf/Profile (68).pdf', '/content/ml_analizadorCurriculos/curriculos_pdf/Profile (7).pdf', '/content/ml_analizadorCurriculos/curriculos_pdf/Profile - 2022-08-22T225436.940.pdf', '/content/ml_analizadorCurriculos/curriculos_pdf/Profile - 2022-08-22T225837.096.pdf', '/content/ml_analizadorCurriculos/curriculos_pdf/Teddy Espino.pdf', '/content/ml_analizadorCurriculos/curriculos_pdf/CV - Milen Ortega Mautong - Milen Ortega Mautong.pdf', '/content/ml_analizadorCurriculos/curriculos_pdf/CV 127.pdf', '/content/ml_analizadorCurriculos/curriculos_pdf/Profile - 2022-08-22T235506.186.pdf', '/content/ml_analizadorCurriculos/curriculos_pdf/CV_RonnySegura.pdf', '/content/ml_analizadorCurriculos/curriculos_pdf/CV Paúl Daniel Del Pezo Navarrete.pdf', '/content/ml_analizadorCurriculos/curriculos_pdf/null.pdf', '/content/ml_analizadorCurriculos/curriculos_pdf/Profile - 2022-08-22T224737.154.pdf', '/content/ml_analizadorCurriculos/curriculos_pdf/Profile - 2022-08-22T231511.287.pdf', '/content/ml_analizadorCurriculos/curriculos_pdf/Profile - 2022-08-23T002520.115.pdf', '/content/ml_analizadorCurriculos/curriculos_pdf/Currículum-Génesis Quimí-2 - Génesis Quimí Pérez.pdf', '/content/ml_analizadorCurriculos/curriculos_pdf/Profile - 2022-08-22T232839.942.pdf', '/content/ml_analizadorCurriculos/curriculos_pdf/Profile (58).pdf', '/content/ml_analizadorCurriculos/curriculos_pdf/Resume-Bernal-es-2.pdf', '/content/ml_analizadorCurriculos/curriculos_pdf/Profile (45).pdf', '/content/ml_analizadorCurriculos/curriculos_pdf/Resume.pdf', '/content/ml_analizadorCurriculos/curriculos_pdf/Profile (52).pdf', '/content/ml_analizadorCurriculos/curriculos_pdf/Profile (3).pdf', '/content/ml_analizadorCurriculos/curriculos_pdf/Profile - 2022-08-23T002734.359.pdf', '/content/ml_analizadorCurriculos/curriculos_pdf/Profile - 2022-08-22T233008.079.pdf', '/content/ml_analizadorCurriculos/curriculos_pdf/Profile - 2022-08-22T225506.954.pdf', '/content/ml_analizadorCurriculos/curriculos_pdf/Profile - 2022-08-22T232336.981.pdf', '/content/ml_analizadorCurriculos/curriculos_pdf/CV-Iván Naranjo - Ivan Naranjo.pdf', '/content/ml_analizadorCurriculos/curriculos_pdf/Profile (14).pdf', '/content/ml_analizadorCurriculos/curriculos_pdf/Profile (54).pdf', '/content/ml_analizadorCurriculos/curriculos_pdf/Profile - 2022-08-22T230634.794.pdf', '/content/ml_analizadorCurriculos/curriculos_pdf/Profile - 2022-08-23T002806.316.pdf', '/content/ml_analizadorCurriculos/curriculos_pdf/Hoja de vida Tatiana Merino.pdf', '/content/ml_analizadorCurriculos/curriculos_pdf/Profile - 2022-08-22T225929.156.pdf', '/content/ml_analizadorCurriculos/curriculos_pdf/CURRICULUM VITAE NOEMI.pdf', '/content/ml_analizadorCurriculos/curriculos_pdf/Profile (28).pdf', '/content/ml_analizadorCurriculos/curriculos_pdf/Profile (86).pdf', '/content/ml_analizadorCurriculos/curriculos_pdf/Profile - 2022-08-22T235308.250.pdf', '/content/ml_analizadorCurriculos/curriculos_pdf/Profile - 2022-08-22T231919.853.pdf', '/content/ml_analizadorCurriculos/curriculos_pdf/Profile - 2022-08-22T232916.167.pdf', '/content/ml_analizadorCurriculos/curriculos_pdf/Hoja_de_Vida_Diego_Gonzalez (1).pdf', '/content/ml_analizadorCurriculos/curriculos_pdf/Profile - 2022-08-23T001534.673.pdf', '/content/ml_analizadorCurriculos/curriculos_pdf/Profile - 2022-08-22T234722.399.pdf', '/content/ml_analizadorCurriculos/curriculos_pdf/CV_202203 - Yoshihito Adachi.pdf', '/content/ml_analizadorCurriculos/curriculos_pdf/Profile - 2022-08-22T225225.793.pdf', '/content/ml_analizadorCurriculos/curriculos_pdf/HOJA DE VIDA CRISTHIAN MENDOZA.pdf', '/content/ml_analizadorCurriculos/curriculos_pdf/Profile (60).pdf', '/content/ml_analizadorCurriculos/curriculos_pdf/Profile - 2022-08-22T231605.366.pdf', '/content/ml_analizadorCurriculos/curriculos_pdf/Profile - 2022-08-22T230431.490.pdf', '/content/ml_analizadorCurriculos/curriculos_pdf/Profile - 2022-08-22T230206.580.pdf', '/content/ml_analizadorCurriculos/curriculos_pdf/Curriculum Axel.pdf', '/content/ml_analizadorCurriculos/curriculos_pdf/Curriculum VITAE 1 mm.pdf', '/content/ml_analizadorCurriculos/curriculos_pdf/Profile (51).pdf', '/content/ml_analizadorCurriculos/curriculos_pdf/ING. JULIO RICARDO VINCES BAQUERIZO.pdf', '/content/ml_analizadorCurriculos/curriculos_pdf/Profile (2).pdf', '/content/ml_analizadorCurriculos/curriculos_pdf/Profile - 2022-08-22T230647.057.pdf', '/content/ml_analizadorCurriculos/curriculos_pdf/Profile - 2022-08-22T231823.023.pdf', '/content/ml_analizadorCurriculos/curriculos_pdf/Profile (33).pdf', '/content/ml_analizadorCurriculos/curriculos_pdf/Profile - 2022-08-22T230336.834.pdf', '/content/ml_analizadorCurriculos/curriculos_pdf/Profile (98).pdf', '/content/ml_analizadorCurriculos/curriculos_pdf/Profile - 2022-08-22T225430.340.pdf', '/content/ml_analizadorCurriculos/curriculos_pdf/CORREA.pdf', '/content/ml_analizadorCurriculos/curriculos_pdf/Profile (71).pdf', '/content/ml_analizadorCurriculos/curriculos_pdf/Profile - 2022-08-22T225528.044.pdf', '/content/ml_analizadorCurriculos/curriculos_pdf/Profile - 2022-08-23T002240.881.pdf', '/content/ml_analizadorCurriculos/curriculos_pdf/CV en Español Cristian Corella.pdf', '/content/ml_analizadorCurriculos/curriculos_pdf/CV Karla Ajoy R.pdf', '/content/ml_analizadorCurriculos/curriculos_pdf/Profile - 2022-08-23T001853.990.pdf', '/content/ml_analizadorCurriculos/curriculos_pdf/HOJA DE VIDA 1.pdf', '/content/ml_analizadorCurriculos/curriculos_pdf/Profile - 2022-08-22T225444.250.pdf', '/content/ml_analizadorCurriculos/curriculos_pdf/CURRICULO ARIANNA MOREIRA - Just Heaven.pdf', '/content/ml_analizadorCurriculos/curriculos_pdf/Profile - 2022-08-22T233715.055.pdf', '/content/ml_analizadorCurriculos/curriculos_pdf/Profile (30).pdf', '/content/ml_analizadorCurriculos/curriculos_pdf/Profile - 2022-08-22T225910.068.pdf', '/content/ml_analizadorCurriculos/curriculos_pdf/Profile (53).pdf', '/content/ml_analizadorCurriculos/curriculos_pdf/Profile - 2022-08-22T230527.412.pdf', '/content/ml_analizadorCurriculos/curriculos_pdf/Profile - 2022-08-22T225401.785.pdf', '/content/ml_analizadorCurriculos/curriculos_pdf/Profile (40).pdf', '/content/ml_analizadorCurriculos/curriculos_pdf/Profile - 2022-08-22T230239.912.pdf', '/content/ml_analizadorCurriculos/curriculos_pdf/Profile - 2022-08-22T225823.770.pdf', '/content/ml_analizadorCurriculos/curriculos_pdf/Profile (24).pdf', '/content/ml_analizadorCurriculos/curriculos_pdf/Carbo.CV (2).pdf', '/content/ml_analizadorCurriculos/curriculos_pdf/Profile - 2022-08-23T002208.360.pdf', '/content/ml_analizadorCurriculos/curriculos_pdf/Curriculum Vitae Diego Alejandro Vera Cortez.pdf', '/content/ml_analizadorCurriculos/curriculos_pdf/CV 123.pdf', '/content/ml_analizadorCurriculos/curriculos_pdf/Profile - 2022-08-22T225951.695.pdf', '/content/ml_analizadorCurriculos/curriculos_pdf/CV_GiovannyRomero - giovanny andres romero vizueta.pdf', '/content/ml_analizadorCurriculos/curriculos_pdf/Profile (80).pdf', '/content/ml_analizadorCurriculos/curriculos_pdf/Profile - 2022-08-22T230224.802.pdf', '/content/ml_analizadorCurriculos/curriculos_pdf/Profile (94).pdf', '/content/ml_analizadorCurriculos/curriculos_pdf/Profile (55).pdf', '/content/ml_analizadorCurriculos/curriculos_pdf/HOJA DE VIDA ANDREA.pdf', '/content/ml_analizadorCurriculos/curriculos_pdf/Profile (35).pdf', '/content/ml_analizadorCurriculos/curriculos_pdf/CV2_Tommy_Villagomez.pdf', '/content/ml_analizadorCurriculos/curriculos_pdf/Curriculum Kenny Yepez.pdf', '/content/ml_analizadorCurriculos/curriculos_pdf/HOJA DE VIDA FRANCISCO CARPIO NOV 2021.pdf', '/content/ml_analizadorCurriculos/curriculos_pdf/Profile - 2022-08-22T225800.977.pdf', '/content/ml_analizadorCurriculos/curriculos_pdf/Profile (23).pdf', '/content/ml_analizadorCurriculos/curriculos_pdf/Profile (70).pdf', '/content/ml_analizadorCurriculos/curriculos_pdf/cv_MawyinCabayNatalia - Natalia MC.pdf', '/content/ml_analizadorCurriculos/curriculos_pdf/Profile (90).pdf', '/content/ml_analizadorCurriculos/curriculos_pdf/Profile (34).pdf', '/content/ml_analizadorCurriculos/curriculos_pdf/Profile - 2022-08-22T231759.074.pdf', '/content/ml_analizadorCurriculos/curriculos_pdf/Profile - 2022-08-22T231553.295.pdf', '/content/ml_analizadorCurriculos/curriculos_pdf/GeovannyRojasCV.pdf', '/content/ml_analizadorCurriculos/curriculos_pdf/Profile - 2022-08-22T230129.173.pdf', '/content/ml_analizadorCurriculos/curriculos_pdf/Profile - 2022-08-22T235435.398.pdf']\n"
          ]
        }
      ],
      "source": [
        "import glob\n",
        "pdfs = glob.glob(pdfs_dir+\"/*.pdf\")\n",
        "print(pdfs)"
      ]
    },
    {
      "cell_type": "code",
      "execution_count": null,
      "metadata": {
        "colab": {
          "base_uri": "https://localhost:8080/"
        },
        "id": "5awIzHM0Rkqd",
        "outputId": "4d80f9ac-4863-4a64-ba9d-0ae9a1ca699a"
      },
      "outputs": [
        {
          "output_type": "stream",
          "name": "stdout",
          "text": [
            "Looking in indexes: https://pypi.org/simple, https://us-python.pkg.dev/colab-wheels/public/simple/\n",
            "Collecting PyPDF2\n",
            "  Downloading PyPDF2-2.10.3-py3-none-any.whl (214 kB)\n",
            "\u001b[K     |████████████████████████████████| 214 kB 5.2 MB/s \n",
            "\u001b[?25hRequirement already satisfied: typing-extensions in /usr/local/lib/python3.7/dist-packages (from PyPDF2) (4.1.1)\n",
            "Installing collected packages: PyPDF2\n",
            "Successfully installed PyPDF2-2.10.3\n"
          ]
        }
      ],
      "source": [
        "!pip install PyPDF2"
      ]
    },
    {
      "cell_type": "code",
      "execution_count": null,
      "metadata": {
        "id": "ZrODKncQ7ri7"
      },
      "outputs": [],
      "source": [
        "import PyPDF2\n",
        "import json\n",
        "\n",
        "def convert_pdf_to_txt(path):\n",
        "  pdf_file = open(path, 'rb')\n",
        "  try:\n",
        "    read_pdf = PyPDF2.PdfFileReader(pdf_file)\n",
        "    #print(read_pdf.documentInfo)\n",
        "    #number_of_pages = read_pdf.getNumPages()\n",
        "    page = read_pdf.getPage(0)\n",
        "    page_content = page.extractText()\n",
        "    #print(page_content)\n",
        "    data = json.dumps(page_content, separators =(\"\\n\", \" . \"))\n",
        "    return page_content\n",
        "  except:\n",
        "    return \"archivo no pudo ser procesado\"\n",
        "\n",
        "def json_file(lista):\n",
        "  with open(\"train.json\", \"w+\") as outfile:\n",
        "      json.dump(lista, outfile, separators=(\", \", \": \"))"
      ]
    },
    {
      "cell_type": "code",
      "execution_count": null,
      "metadata": {
        "colab": {
          "base_uri": "https://localhost:8080/"
        },
        "id": "k9SU0yTc6_Hr",
        "outputId": "c96f8b52-58c6-400d-e0d9-ae51b5cb72c1"
      },
      "outputs": [
        {
          "output_type": "stream",
          "name": "stdout",
          "text": [
            "Looking in indexes: https://pypi.org/simple, https://us-python.pkg.dev/colab-wheels/public/simple/\n",
            "Requirement already satisfied: spacy in /usr/local/lib/python3.7/dist-packages (3.4.1)\n",
            "Requirement already satisfied: srsly<3.0.0,>=2.4.3 in /usr/local/lib/python3.7/dist-packages (from spacy) (2.4.4)\n",
            "Requirement already satisfied: packaging>=20.0 in /usr/local/lib/python3.7/dist-packages (from spacy) (21.3)\n",
            "Requirement already satisfied: spacy-legacy<3.1.0,>=3.0.9 in /usr/local/lib/python3.7/dist-packages (from spacy) (3.0.10)\n",
            "Requirement already satisfied: langcodes<4.0.0,>=3.2.0 in /usr/local/lib/python3.7/dist-packages (from spacy) (3.3.0)\n",
            "Requirement already satisfied: jinja2 in /usr/local/lib/python3.7/dist-packages (from spacy) (2.11.3)\n",
            "Requirement already satisfied: typer<0.5.0,>=0.3.0 in /usr/local/lib/python3.7/dist-packages (from spacy) (0.4.2)\n",
            "Requirement already satisfied: murmurhash<1.1.0,>=0.28.0 in /usr/local/lib/python3.7/dist-packages (from spacy) (1.0.8)\n",
            "Requirement already satisfied: pydantic!=1.8,!=1.8.1,<1.10.0,>=1.7.4 in /usr/local/lib/python3.7/dist-packages (from spacy) (1.9.2)\n",
            "Requirement already satisfied: pathy>=0.3.5 in /usr/local/lib/python3.7/dist-packages (from spacy) (0.6.2)\n",
            "Requirement already satisfied: setuptools in /usr/local/lib/python3.7/dist-packages (from spacy) (57.4.0)\n",
            "Requirement already satisfied: spacy-loggers<2.0.0,>=1.0.0 in /usr/local/lib/python3.7/dist-packages (from spacy) (1.0.3)\n",
            "Requirement already satisfied: thinc<8.2.0,>=8.1.0 in /usr/local/lib/python3.7/dist-packages (from spacy) (8.1.0)\n",
            "Requirement already satisfied: preshed<3.1.0,>=3.0.2 in /usr/local/lib/python3.7/dist-packages (from spacy) (3.0.7)\n",
            "Requirement already satisfied: cymem<2.1.0,>=2.0.2 in /usr/local/lib/python3.7/dist-packages (from spacy) (2.0.6)\n",
            "Requirement already satisfied: catalogue<2.1.0,>=2.0.6 in /usr/local/lib/python3.7/dist-packages (from spacy) (2.0.8)\n",
            "Requirement already satisfied: numpy>=1.15.0 in /usr/local/lib/python3.7/dist-packages (from spacy) (1.21.6)\n",
            "Requirement already satisfied: typing-extensions<4.2.0,>=3.7.4 in /usr/local/lib/python3.7/dist-packages (from spacy) (4.1.1)\n",
            "Requirement already satisfied: requests<3.0.0,>=2.13.0 in /usr/local/lib/python3.7/dist-packages (from spacy) (2.23.0)\n",
            "Requirement already satisfied: tqdm<5.0.0,>=4.38.0 in /usr/local/lib/python3.7/dist-packages (from spacy) (4.64.0)\n",
            "Requirement already satisfied: wasabi<1.1.0,>=0.9.1 in /usr/local/lib/python3.7/dist-packages (from spacy) (0.10.1)\n",
            "Requirement already satisfied: zipp>=0.5 in /usr/local/lib/python3.7/dist-packages (from catalogue<2.1.0,>=2.0.6->spacy) (3.8.1)\n",
            "Requirement already satisfied: pyparsing!=3.0.5,>=2.0.2 in /usr/local/lib/python3.7/dist-packages (from packaging>=20.0->spacy) (3.0.9)\n",
            "Requirement already satisfied: smart-open<6.0.0,>=5.2.1 in /usr/local/lib/python3.7/dist-packages (from pathy>=0.3.5->spacy) (5.2.1)\n",
            "Requirement already satisfied: urllib3!=1.25.0,!=1.25.1,<1.26,>=1.21.1 in /usr/local/lib/python3.7/dist-packages (from requests<3.0.0,>=2.13.0->spacy) (1.24.3)\n",
            "Requirement already satisfied: certifi>=2017.4.17 in /usr/local/lib/python3.7/dist-packages (from requests<3.0.0,>=2.13.0->spacy) (2022.6.15)\n",
            "Requirement already satisfied: idna<3,>=2.5 in /usr/local/lib/python3.7/dist-packages (from requests<3.0.0,>=2.13.0->spacy) (2.10)\n",
            "Requirement already satisfied: chardet<4,>=3.0.2 in /usr/local/lib/python3.7/dist-packages (from requests<3.0.0,>=2.13.0->spacy) (3.0.4)\n",
            "Requirement already satisfied: blis<0.8.0,>=0.7.8 in /usr/local/lib/python3.7/dist-packages (from thinc<8.2.0,>=8.1.0->spacy) (0.7.8)\n",
            "Requirement already satisfied: click<9.0.0,>=7.1.1 in /usr/local/lib/python3.7/dist-packages (from typer<0.5.0,>=0.3.0->spacy) (7.1.2)\n",
            "Requirement already satisfied: MarkupSafe>=0.23 in /usr/local/lib/python3.7/dist-packages (from jinja2->spacy) (2.0.1)\n"
          ]
        }
      ],
      "source": [
        "!pip install spacy"
      ]
    },
    {
      "cell_type": "code",
      "execution_count": null,
      "metadata": {
        "colab": {
          "base_uri": "https://localhost:8080/"
        },
        "id": "1MKexJQj7GmU",
        "outputId": "edcf7ab9-922b-46ba-b83f-1e1e8376349f"
      },
      "outputs": [
        {
          "output_type": "stream",
          "name": "stdout",
          "text": [
            "\u001b[38;5;2m✔ Download and installation successful\u001b[0m\n",
            "You can now load the package via spacy.load('es_core_news_md')\n"
          ]
        }
      ],
      "source": [
        "import spacy\n",
        "import spacy.cli\n",
        "\n",
        "spacy.cli.download(\"es_core_news_md\")\n",
        "\n",
        "# se carga el modelo pre/entrenado en Español\n",
        "nlp = spacy.load('es_core_news_md')"
      ]
    },
    {
      "cell_type": "code",
      "execution_count": null,
      "metadata": {
        "id": "xgDurjlkR91p"
      },
      "outputs": [],
      "source": [
        "import re\n",
        "def extract_email(email):\n",
        "    email = re.findall(\"([^@|\\s]+@[^@]+\\.[^@|\\s]+)\", email)\n",
        "    if email:\n",
        "        try:\n",
        "            return email[0].split()[0].strip(';')\n",
        "        except IndexError:\n",
        "            return None"
      ]
    },
    {
      "cell_type": "code",
      "execution_count": null,
      "metadata": {
        "colab": {
          "base_uri": "https://localhost:8080/"
        },
        "id": "MVIduc7a0qgm",
        "outputId": "65821fb2-b659-4551-f472-7f3e71b2bca6"
      },
      "outputs": [
        {
          "output_type": "stream",
          "name": "stdout",
          "text": [
            "Found \"this\"\n",
            "in \"Does this text match the pattern?\"\n",
            "from 5 to 9 (\"this\")\n"
          ]
        }
      ],
      "source": [
        "import re\n",
        "\n",
        "pattern = 'this'\n",
        "text = 'Does this text match the pattern?'\n",
        "\n",
        "match = re.search(pattern, text)\n",
        "\n",
        "s = match.start()\n",
        "e = match.end()\n",
        "\n",
        "print('Found \"{}\"\\nin \"{}\"\\nfrom {} to {} (\"{}\")'.format(\n",
        "    match.re.pattern, match.string, s, e, text[s:e]))"
      ]
    },
    {
      "cell_type": "code",
      "execution_count": null,
      "metadata": {
        "id": "PUoDyYaI7K67",
        "colab": {
          "base_uri": "https://localhost:8080/"
        },
        "outputId": "7af08330-184b-427b-bfe0-d9d44000bda7"
      },
      "outputs": [
        {
          "output_type": "stream",
          "name": "stderr",
          "text": [
            "WARNING:PyPDF2._reader:Xref table not zero-indexed. ID numbers for objects will be corrected.\n",
            "WARNING:PyPDF2._page: impossible to decode XFormObject /Meta5\n",
            "WARNING:PyPDF2._reader:Superfluous whitespace found in object header b'1' b'0'\n",
            "WARNING:PyPDF2._reader:Superfluous whitespace found in object header b'2' b'0'\n",
            "WARNING:PyPDF2._reader:Superfluous whitespace found in object header b'3' b'0'\n",
            "WARNING:PyPDF2._reader:Superfluous whitespace found in object header b'32' b'0'\n",
            "WARNING:PyPDF2._reader:Superfluous whitespace found in object header b'61' b'0'\n",
            "WARNING:PyPDF2._reader:Superfluous whitespace found in object header b'72' b'0'\n",
            "WARNING:PyPDF2._reader:Superfluous whitespace found in object header b'76' b'0'\n",
            "WARNING:PyPDF2._reader:Superfluous whitespace found in object header b'31' b'0'\n",
            "WARNING:PyPDF2._reader:Superfluous whitespace found in object header b'11' b'0'\n",
            "WARNING:PyPDF2._reader:Superfluous whitespace found in object header b'10' b'0'\n",
            "WARNING:PyPDF2._reader:Superfluous whitespace found in object header b'9' b'0'\n",
            "WARNING:PyPDF2._reader:Superfluous whitespace found in object header b'19' b'0'\n",
            "WARNING:PyPDF2._reader:Superfluous whitespace found in object header b'18' b'0'\n",
            "WARNING:PyPDF2._reader:Superfluous whitespace found in object header b'17' b'0'\n",
            "WARNING:PyPDF2._reader:Superfluous whitespace found in object header b'27' b'0'\n",
            "WARNING:PyPDF2._reader:Superfluous whitespace found in object header b'26' b'0'\n",
            "WARNING:PyPDF2._reader:Superfluous whitespace found in object header b'25' b'0'\n",
            "WARNING:PyPDF2._reader:Superfluous whitespace found in object header b'30' b'0'\n",
            "WARNING:PyPDF2._reader:Superfluous whitespace found in object header b'28' b'0'\n",
            "WARNING:PyPDF2._reader:Superfluous whitespace found in object header b'29' b'0'\n",
            "WARNING:PyPDF2._page: impossible to decode XFormObject /Meta5\n",
            "WARNING:PyPDF2._page: impossible to decode XFormObject /Meta34\n",
            "WARNING:PyPDF2._page: impossible to decode XFormObject /Meta26\n",
            "WARNING:PyPDF2._page: impossible to decode XFormObject /Meta27\n",
            "WARNING:PyPDF2._page: impossible to decode XFormObject /Meta28\n",
            "WARNING:PyPDF2._reader:Xref table not zero-indexed. ID numbers for objects will be corrected.\n",
            "WARNING:PyPDF2._reader:Xref table not zero-indexed. ID numbers for objects will be corrected.\n",
            "WARNING:PyPDF2._reader:Xref table not zero-indexed. ID numbers for objects will be corrected.\n",
            "WARNING:PyPDF2._reader:Xref table not zero-indexed. ID numbers for objects will be corrected.\n",
            "WARNING:PyPDF2._reader:Xref table not zero-indexed. ID numbers for objects will be corrected.\n",
            "WARNING:PyPDF2._reader:Xref table not zero-indexed. ID numbers for objects will be corrected.\n",
            "WARNING:PyPDF2._reader:Xref table not zero-indexed. ID numbers for objects will be corrected.\n",
            "WARNING:PyPDF2._reader:Xref table not zero-indexed. ID numbers for objects will be corrected.\n",
            "WARNING:PyPDF2._reader:Xref table not zero-indexed. ID numbers for objects will be corrected.\n",
            "WARNING:PyPDF2._reader:Xref table not zero-indexed. ID numbers for objects will be corrected.\n",
            "WARNING:PyPDF2._reader:Xref table not zero-indexed. ID numbers for objects will be corrected.\n",
            "WARNING:PyPDF2._reader:Xref table not zero-indexed. ID numbers for objects will be corrected.\n",
            "WARNING:PyPDF2._reader:Xref table not zero-indexed. ID numbers for objects will be corrected.\n",
            "WARNING:PyPDF2._reader:Xref table not zero-indexed. ID numbers for objects will be corrected.\n",
            "WARNING:PyPDF2._reader:Xref table not zero-indexed. ID numbers for objects will be corrected.\n",
            "WARNING:PyPDF2._page: impossible to decode XFormObject /Meta5\n",
            "WARNING:PyPDF2._page: impossible to decode XFormObject /Meta5\n",
            "WARNING:PyPDF2._reader:Xref table not zero-indexed. ID numbers for objects will be corrected.\n",
            "WARNING:PyPDF2._page: impossible to decode XFormObject /Meta5\n",
            "WARNING:PyPDF2._reader:Xref table not zero-indexed. ID numbers for objects will be corrected.\n",
            "WARNING:PyPDF2._page: impossible to decode XFormObject /Meta5\n"
          ]
        }
      ],
      "source": [
        "#Creacion de archivo json para entrenar al modelo\n",
        "import re\n",
        "cvs = []\n",
        "for i in range(0, len(pdfs)-1): #CAMBIAR A TODOS LOS PDFS (len(pdfs)-1)\n",
        "  raw_text= convert_pdf_to_txt(pdfs[i])\n",
        "  text1= nlp(raw_text)\n",
        "  nombre=\"\"\n",
        "  #pattern=\"(?:(?:\\+?([1-9]|[0-9][0-9]|[0-9][0-9][0-9])\\s*(?:[.-]\\s*)?)?(?:\\(\\s*([2-9]1[02-9]|[2-9][02-8]1|[2-9][02-8][02-9])\\s*\\)|([0-9][1-9]|[0-9]1[02-9]|[2-9][02-8]1|[2-9][02-8][02-9]))\\s*(?:[.-]\\s*)?)?([2-9]1[02-9]|[2-9][02-9]1|[2-9][02-9]{2})\\s*(?:[.-]\\s*)?([0-9]{4})(?:\\s*(?:#|x\\.?|ext\\.?|extension)\\s*(\\d+))?'\"\n",
        "  #match_phone = re.search(pattern, raw_text)\n",
        "  celular=re.findall(re.compile(r'(?:(?:\\+?([1-9]|[0-9][0-9]|[0-9][0-9][0-9])\\s*(?:[.-]\\s*)?)?(?:\\(\\s*([2-9]1[02-9]|[2-9][02-8]1|[2-9][02-8][02-9])\\s*\\)|([0-9][1-9]|[0-9]1[02-9]|[2-9][02-8]1|[2-9][02-8][02-9]))\\s*(?:[.-]\\s*)?)?([2-9]1[02-9]|[2-9][02-9]1|[2-9][02-9]{2})\\s*(?:[.-]\\s*)?([0-9]{4})(?:\\s*(?:#|x\\.?|ext\\.?|extension)\\s*(\\d+))?'), raw_text)\n",
        "  correo=extract_email(raw_text)\n",
        "  flag= False\n",
        "  diction={\"entidades\":[]}\n",
        "  datos = [raw_text, diction]\n",
        "  for word in text1.ents:\n",
        "    if(word.label_==\"PER\" and flag==False):\n",
        "      diction[\"entidades\"].append([word.start_char, word.end_char, \"nombre\"])\n",
        "      #nombre=word.text\n",
        "      flag=True\n",
        "    elif (word.label_==\"MISC\"):\n",
        "       diction[\"entidades\"].append([word.start_char, word.end_char, word.text, ])\n",
        "  #print(match_phone.start())\n",
        "  #diction[\"entidades\"].append([\"celular\", match_phone.start(), match_phone.end()])\n",
        "  cvs.append(datos)\n",
        "\n",
        "json_file(cvs)"
      ]
    },
    {
      "cell_type": "code",
      "execution_count": null,
      "metadata": {
        "id": "7rX56zuAhulj",
        "colab": {
          "base_uri": "https://localhost:8080/"
        },
        "outputId": "9c3c119a-72c4-43eb-cdc2-5bad627c4272"
      },
      "outputs": [
        {
          "output_type": "stream",
          "name": "stdout",
          "text": [
            "Looking in indexes: https://pypi.org/simple, https://us-python.pkg.dev/colab-wheels/public/simple/\n",
            "Collecting spacy_transformers\n",
            "  Downloading spacy_transformers-1.1.8-py2.py3-none-any.whl (53 kB)\n",
            "\u001b[K     |████████████████████████████████| 53 kB 1.5 MB/s \n",
            "\u001b[?25hRequirement already satisfied: torch>=1.6.0 in /usr/local/lib/python3.7/dist-packages (from spacy_transformers) (1.12.1+cu113)\n",
            "Requirement already satisfied: spacy<4.0.0,>=3.4.0 in /usr/local/lib/python3.7/dist-packages (from spacy_transformers) (3.4.1)\n",
            "Collecting transformers<4.22.0,>=3.4.0\n",
            "  Downloading transformers-4.21.1-py3-none-any.whl (4.7 MB)\n",
            "\u001b[K     |████████████████████████████████| 4.7 MB 9.7 MB/s \n",
            "\u001b[?25hRequirement already satisfied: srsly<3.0.0,>=2.4.0 in /usr/local/lib/python3.7/dist-packages (from spacy_transformers) (2.4.4)\n",
            "Collecting spacy-alignments<1.0.0,>=0.7.2\n",
            "  Downloading spacy_alignments-0.8.5-cp37-cp37m-manylinux_2_17_x86_64.manylinux2014_x86_64.whl (1.1 MB)\n",
            "\u001b[K     |████████████████████████████████| 1.1 MB 40.2 MB/s \n",
            "\u001b[?25hRequirement already satisfied: jinja2 in /usr/local/lib/python3.7/dist-packages (from spacy<4.0.0,>=3.4.0->spacy_transformers) (2.11.3)\n",
            "Requirement already satisfied: pathy>=0.3.5 in /usr/local/lib/python3.7/dist-packages (from spacy<4.0.0,>=3.4.0->spacy_transformers) (0.6.2)\n",
            "Requirement already satisfied: packaging>=20.0 in /usr/local/lib/python3.7/dist-packages (from spacy<4.0.0,>=3.4.0->spacy_transformers) (21.3)\n",
            "Requirement already satisfied: typer<0.5.0,>=0.3.0 in /usr/local/lib/python3.7/dist-packages (from spacy<4.0.0,>=3.4.0->spacy_transformers) (0.4.2)\n",
            "Requirement already satisfied: catalogue<2.1.0,>=2.0.6 in /usr/local/lib/python3.7/dist-packages (from spacy<4.0.0,>=3.4.0->spacy_transformers) (2.0.8)\n",
            "Requirement already satisfied: typing-extensions<4.2.0,>=3.7.4 in /usr/local/lib/python3.7/dist-packages (from spacy<4.0.0,>=3.4.0->spacy_transformers) (4.1.1)\n",
            "Requirement already satisfied: preshed<3.1.0,>=3.0.2 in /usr/local/lib/python3.7/dist-packages (from spacy<4.0.0,>=3.4.0->spacy_transformers) (3.0.7)\n",
            "Requirement already satisfied: wasabi<1.1.0,>=0.9.1 in /usr/local/lib/python3.7/dist-packages (from spacy<4.0.0,>=3.4.0->spacy_transformers) (0.10.1)\n",
            "Requirement already satisfied: setuptools in /usr/local/lib/python3.7/dist-packages (from spacy<4.0.0,>=3.4.0->spacy_transformers) (57.4.0)\n",
            "Requirement already satisfied: langcodes<4.0.0,>=3.2.0 in /usr/local/lib/python3.7/dist-packages (from spacy<4.0.0,>=3.4.0->spacy_transformers) (3.3.0)\n",
            "Requirement already satisfied: thinc<8.2.0,>=8.1.0 in /usr/local/lib/python3.7/dist-packages (from spacy<4.0.0,>=3.4.0->spacy_transformers) (8.1.0)\n",
            "Requirement already satisfied: spacy-legacy<3.1.0,>=3.0.9 in /usr/local/lib/python3.7/dist-packages (from spacy<4.0.0,>=3.4.0->spacy_transformers) (3.0.10)\n",
            "Requirement already satisfied: cymem<2.1.0,>=2.0.2 in /usr/local/lib/python3.7/dist-packages (from spacy<4.0.0,>=3.4.0->spacy_transformers) (2.0.6)\n",
            "Requirement already satisfied: requests<3.0.0,>=2.13.0 in /usr/local/lib/python3.7/dist-packages (from spacy<4.0.0,>=3.4.0->spacy_transformers) (2.23.0)\n",
            "Requirement already satisfied: tqdm<5.0.0,>=4.38.0 in /usr/local/lib/python3.7/dist-packages (from spacy<4.0.0,>=3.4.0->spacy_transformers) (4.64.0)\n",
            "Requirement already satisfied: numpy>=1.15.0 in /usr/local/lib/python3.7/dist-packages (from spacy<4.0.0,>=3.4.0->spacy_transformers) (1.21.6)\n",
            "Requirement already satisfied: murmurhash<1.1.0,>=0.28.0 in /usr/local/lib/python3.7/dist-packages (from spacy<4.0.0,>=3.4.0->spacy_transformers) (1.0.8)\n",
            "Requirement already satisfied: spacy-loggers<2.0.0,>=1.0.0 in /usr/local/lib/python3.7/dist-packages (from spacy<4.0.0,>=3.4.0->spacy_transformers) (1.0.3)\n",
            "Requirement already satisfied: pydantic!=1.8,!=1.8.1,<1.10.0,>=1.7.4 in /usr/local/lib/python3.7/dist-packages (from spacy<4.0.0,>=3.4.0->spacy_transformers) (1.9.2)\n",
            "Requirement already satisfied: zipp>=0.5 in /usr/local/lib/python3.7/dist-packages (from catalogue<2.1.0,>=2.0.6->spacy<4.0.0,>=3.4.0->spacy_transformers) (3.8.1)\n",
            "Requirement already satisfied: pyparsing!=3.0.5,>=2.0.2 in /usr/local/lib/python3.7/dist-packages (from packaging>=20.0->spacy<4.0.0,>=3.4.0->spacy_transformers) (3.0.9)\n",
            "Requirement already satisfied: smart-open<6.0.0,>=5.2.1 in /usr/local/lib/python3.7/dist-packages (from pathy>=0.3.5->spacy<4.0.0,>=3.4.0->spacy_transformers) (5.2.1)\n",
            "Requirement already satisfied: chardet<4,>=3.0.2 in /usr/local/lib/python3.7/dist-packages (from requests<3.0.0,>=2.13.0->spacy<4.0.0,>=3.4.0->spacy_transformers) (3.0.4)\n",
            "Requirement already satisfied: certifi>=2017.4.17 in /usr/local/lib/python3.7/dist-packages (from requests<3.0.0,>=2.13.0->spacy<4.0.0,>=3.4.0->spacy_transformers) (2022.6.15)\n",
            "Requirement already satisfied: urllib3!=1.25.0,!=1.25.1,<1.26,>=1.21.1 in /usr/local/lib/python3.7/dist-packages (from requests<3.0.0,>=2.13.0->spacy<4.0.0,>=3.4.0->spacy_transformers) (1.24.3)\n",
            "Requirement already satisfied: idna<3,>=2.5 in /usr/local/lib/python3.7/dist-packages (from requests<3.0.0,>=2.13.0->spacy<4.0.0,>=3.4.0->spacy_transformers) (2.10)\n",
            "Requirement already satisfied: blis<0.8.0,>=0.7.8 in /usr/local/lib/python3.7/dist-packages (from thinc<8.2.0,>=8.1.0->spacy<4.0.0,>=3.4.0->spacy_transformers) (0.7.8)\n",
            "Collecting huggingface-hub<1.0,>=0.1.0\n",
            "  Downloading huggingface_hub-0.9.0-py3-none-any.whl (120 kB)\n",
            "\u001b[K     |████████████████████████████████| 120 kB 75.6 MB/s \n",
            "\u001b[?25hCollecting tokenizers!=0.11.3,<0.13,>=0.11.1\n",
            "  Downloading tokenizers-0.12.1-cp37-cp37m-manylinux_2_12_x86_64.manylinux2010_x86_64.whl (6.6 MB)\n",
            "\u001b[K     |████████████████████████████████| 6.6 MB 59.1 MB/s \n",
            "\u001b[?25hRequirement already satisfied: filelock in /usr/local/lib/python3.7/dist-packages (from transformers<4.22.0,>=3.4.0->spacy_transformers) (3.8.0)\n",
            "Requirement already satisfied: pyyaml>=5.1 in /usr/local/lib/python3.7/dist-packages (from transformers<4.22.0,>=3.4.0->spacy_transformers) (6.0)\n",
            "Requirement already satisfied: regex!=2019.12.17 in /usr/local/lib/python3.7/dist-packages (from transformers<4.22.0,>=3.4.0->spacy_transformers) (2022.6.2)\n",
            "Requirement already satisfied: importlib-metadata in /usr/local/lib/python3.7/dist-packages (from transformers<4.22.0,>=3.4.0->spacy_transformers) (4.12.0)\n",
            "Requirement already satisfied: click<9.0.0,>=7.1.1 in /usr/local/lib/python3.7/dist-packages (from typer<0.5.0,>=0.3.0->spacy<4.0.0,>=3.4.0->spacy_transformers) (7.1.2)\n",
            "Requirement already satisfied: MarkupSafe>=0.23 in /usr/local/lib/python3.7/dist-packages (from jinja2->spacy<4.0.0,>=3.4.0->spacy_transformers) (2.0.1)\n",
            "Installing collected packages: tokenizers, huggingface-hub, transformers, spacy-alignments, spacy-transformers\n",
            "Successfully installed huggingface-hub-0.9.0 spacy-alignments-0.8.5 spacy-transformers-1.1.8 tokenizers-0.12.1 transformers-4.21.1\n",
            "Looking in indexes: https://pypi.org/simple, https://us-python.pkg.dev/colab-wheels/public/simple/\n",
            "Requirement already satisfied: spacy in /usr/local/lib/python3.7/dist-packages (3.4.1)\n",
            "Requirement already satisfied: pathy>=0.3.5 in /usr/local/lib/python3.7/dist-packages (from spacy) (0.6.2)\n",
            "Requirement already satisfied: wasabi<1.1.0,>=0.9.1 in /usr/local/lib/python3.7/dist-packages (from spacy) (0.10.1)\n",
            "Requirement already satisfied: numpy>=1.15.0 in /usr/local/lib/python3.7/dist-packages (from spacy) (1.21.6)\n",
            "Requirement already satisfied: pydantic!=1.8,!=1.8.1,<1.10.0,>=1.7.4 in /usr/local/lib/python3.7/dist-packages (from spacy) (1.9.2)\n",
            "Requirement already satisfied: packaging>=20.0 in /usr/local/lib/python3.7/dist-packages (from spacy) (21.3)\n",
            "Requirement already satisfied: typer<0.5.0,>=0.3.0 in /usr/local/lib/python3.7/dist-packages (from spacy) (0.4.2)\n",
            "Requirement already satisfied: cymem<2.1.0,>=2.0.2 in /usr/local/lib/python3.7/dist-packages (from spacy) (2.0.6)\n",
            "Requirement already satisfied: jinja2 in /usr/local/lib/python3.7/dist-packages (from spacy) (2.11.3)\n",
            "Requirement already satisfied: requests<3.0.0,>=2.13.0 in /usr/local/lib/python3.7/dist-packages (from spacy) (2.23.0)\n",
            "Requirement already satisfied: preshed<3.1.0,>=3.0.2 in /usr/local/lib/python3.7/dist-packages (from spacy) (3.0.7)\n",
            "Requirement already satisfied: srsly<3.0.0,>=2.4.3 in /usr/local/lib/python3.7/dist-packages (from spacy) (2.4.4)\n",
            "Requirement already satisfied: murmurhash<1.1.0,>=0.28.0 in /usr/local/lib/python3.7/dist-packages (from spacy) (1.0.8)\n",
            "Requirement already satisfied: setuptools in /usr/local/lib/python3.7/dist-packages (from spacy) (57.4.0)\n",
            "Requirement already satisfied: tqdm<5.0.0,>=4.38.0 in /usr/local/lib/python3.7/dist-packages (from spacy) (4.64.0)\n",
            "Requirement already satisfied: langcodes<4.0.0,>=3.2.0 in /usr/local/lib/python3.7/dist-packages (from spacy) (3.3.0)\n",
            "Requirement already satisfied: catalogue<2.1.0,>=2.0.6 in /usr/local/lib/python3.7/dist-packages (from spacy) (2.0.8)\n",
            "Requirement already satisfied: spacy-loggers<2.0.0,>=1.0.0 in /usr/local/lib/python3.7/dist-packages (from spacy) (1.0.3)\n",
            "Requirement already satisfied: spacy-legacy<3.1.0,>=3.0.9 in /usr/local/lib/python3.7/dist-packages (from spacy) (3.0.10)\n",
            "Requirement already satisfied: thinc<8.2.0,>=8.1.0 in /usr/local/lib/python3.7/dist-packages (from spacy) (8.1.0)\n",
            "Requirement already satisfied: typing-extensions<4.2.0,>=3.7.4 in /usr/local/lib/python3.7/dist-packages (from spacy) (4.1.1)\n",
            "Requirement already satisfied: zipp>=0.5 in /usr/local/lib/python3.7/dist-packages (from catalogue<2.1.0,>=2.0.6->spacy) (3.8.1)\n",
            "Requirement already satisfied: pyparsing!=3.0.5,>=2.0.2 in /usr/local/lib/python3.7/dist-packages (from packaging>=20.0->spacy) (3.0.9)\n",
            "Requirement already satisfied: smart-open<6.0.0,>=5.2.1 in /usr/local/lib/python3.7/dist-packages (from pathy>=0.3.5->spacy) (5.2.1)\n",
            "Requirement already satisfied: urllib3!=1.25.0,!=1.25.1,<1.26,>=1.21.1 in /usr/local/lib/python3.7/dist-packages (from requests<3.0.0,>=2.13.0->spacy) (1.24.3)\n",
            "Requirement already satisfied: certifi>=2017.4.17 in /usr/local/lib/python3.7/dist-packages (from requests<3.0.0,>=2.13.0->spacy) (2022.6.15)\n",
            "Requirement already satisfied: idna<3,>=2.5 in /usr/local/lib/python3.7/dist-packages (from requests<3.0.0,>=2.13.0->spacy) (2.10)\n",
            "Requirement already satisfied: chardet<4,>=3.0.2 in /usr/local/lib/python3.7/dist-packages (from requests<3.0.0,>=2.13.0->spacy) (3.0.4)\n",
            "Requirement already satisfied: blis<0.8.0,>=0.7.8 in /usr/local/lib/python3.7/dist-packages (from thinc<8.2.0,>=8.1.0->spacy) (0.7.8)\n",
            "Requirement already satisfied: click<9.0.0,>=7.1.1 in /usr/local/lib/python3.7/dist-packages (from typer<0.5.0,>=0.3.0->spacy) (7.1.2)\n",
            "Requirement already satisfied: MarkupSafe>=0.23 in /usr/local/lib/python3.7/dist-packages (from jinja2->spacy) (2.0.1)\n"
          ]
        }
      ],
      "source": [
        "!pip install spacy_transformers\n",
        "!pip install -U spacy"
      ]
    },
    {
      "cell_type": "code",
      "execution_count": null,
      "metadata": {
        "id": "rP5AZP3X2LWn"
      },
      "outputs": [],
      "source": [
        "import spacy\n",
        "from spacy.tokens import DocBin\n",
        "from tqdm import tqdm\n",
        "import json"
      ]
    },
    {
      "cell_type": "code",
      "execution_count": null,
      "metadata": {
        "colab": {
          "base_uri": "https://localhost:8080/"
        },
        "id": "2TO_ZdnA2cUh",
        "outputId": "429652f5-3fcb-4b90-fc07-4f3b2e7f99b2"
      },
      "outputs": [
        {
          "output_type": "stream",
          "name": "stdout",
          "text": [
            "Tue Aug 23 21:23:41 2022       \n",
            "+-----------------------------------------------------------------------------+\n",
            "| NVIDIA-SMI 460.32.03    Driver Version: 460.32.03    CUDA Version: 11.2     |\n",
            "|-------------------------------+----------------------+----------------------+\n",
            "| GPU  Name        Persistence-M| Bus-Id        Disp.A | Volatile Uncorr. ECC |\n",
            "| Fan  Temp  Perf  Pwr:Usage/Cap|         Memory-Usage | GPU-Util  Compute M. |\n",
            "|                               |                      |               MIG M. |\n",
            "|===============================+======================+======================|\n",
            "|   0  Tesla T4            Off  | 00000000:00:04.0 Off |                    0 |\n",
            "| N/A   48C    P0    27W /  70W |    312MiB / 15109MiB |      0%      Default |\n",
            "|                               |                      |                  N/A |\n",
            "+-------------------------------+----------------------+----------------------+\n",
            "                                                                               \n",
            "+-----------------------------------------------------------------------------+\n",
            "| Processes:                                                                  |\n",
            "|  GPU   GI   CI        PID   Type   Process name                  GPU Memory |\n",
            "|        ID   ID                                                   Usage      |\n",
            "|=============================================================================|\n",
            "+-----------------------------------------------------------------------------+\n"
          ]
        }
      ],
      "source": [
        "!nvidia-smi"
      ]
    },
    {
      "cell_type": "code",
      "execution_count": null,
      "metadata": {
        "id": "DydkM2lc3mUD"
      },
      "outputs": [],
      "source": [
        "cv_data = json.load(open('/content/train.json','r'))\n",
        "#len(cv_data)\n",
        "#cv_data"
      ]
    },
    {
      "cell_type": "code",
      "execution_count": null,
      "metadata": {
        "colab": {
          "base_uri": "https://localhost:8080/"
        },
        "id": "v0rx-aaK3mLs",
        "outputId": "8f953b9f-963a-4473-a95f-338d15c70506"
      },
      "outputs": [
        {
          "output_type": "execute_result",
          "data": {
            "text/plain": [
              "[[313,\n",
              "  380,\n",
              "  'ESPOL,\\nme gusta resolver problemas y ser disciplinado en mis tareas']]"
            ]
          },
          "metadata": {},
          "execution_count": 15
        }
      ],
      "source": [
        "cv_data[0][1]['entidades'] #prueba, no ejecutar"
      ]
    },
    {
      "cell_type": "code",
      "execution_count": null,
      "metadata": {
        "colab": {
          "base_uri": "https://localhost:8080/"
        },
        "id": "7pKIXSnx3mJT",
        "outputId": "64e2dc9d-6119-481d-e3b0-5cfd26d41d4e"
      },
      "outputs": [
        {
          "output_type": "stream",
          "name": "stdout",
          "text": [
            "\u001b[38;5;2m✔ Auto-filled config with all values\u001b[0m\n",
            "\u001b[38;5;2m✔ Saved config\u001b[0m\n",
            "config.cfg\n",
            "You can now add your data and train your pipeline:\n",
            "python -m spacy train config.cfg --paths.train ./train.spacy --paths.dev ./dev.spacy\n"
          ]
        }
      ],
      "source": [
        "!python -m spacy init fill-config /content/ml_analizadorCurriculos/base_config.cfg config.cfg"
      ]
    },
    {
      "cell_type": "code",
      "execution_count": null,
      "metadata": {
        "id": "_VFJBBNc21DW"
      },
      "outputs": [],
      "source": [
        "def get_spacy_doc(file, data):\n",
        "  nlp = spacy.blank('es')\n",
        "  db = DocBin()\n",
        "\n",
        "  for text,annot in tqdm(data):\n",
        "    doc = nlp.make_doc(text)\n",
        "    annot = annot['entidades']\n",
        "\n",
        "    ents=[]\n",
        "    entity_indices=[]\n",
        "    for start, end, label in annot:\n",
        "      skip_entity=False\n",
        "      for idx in range(start,end):\n",
        "        if idx in entity_indices:\n",
        "          skip_entity=True\n",
        "          break;\n",
        "      if skip_entity==True:\n",
        "        continue\n",
        "      \n",
        "      entity_indices=entity_indices+list(range(start,end))\n",
        "\n",
        "      try:\n",
        "        span = doc.char_span(start, end, label=label,alignment_mode='contract')\n",
        "      except:\n",
        "        continue\n",
        "      \n",
        "      if span is None:\n",
        "        err_data=str([start,end])+\" \"+str(text)+\"\\n\"\n",
        "        file.write(err_data)\n",
        "      \n",
        "      else:\n",
        "        ents.append(span)\n",
        "    try:\n",
        "      doc.ents=ents\n",
        "      db.add(doc)\n",
        "    except:\n",
        "      pass\n",
        "  return db"
      ]
    },
    {
      "cell_type": "code",
      "execution_count": null,
      "metadata": {
        "id": "Fir8R2vAC1R-"
      },
      "outputs": [],
      "source": [
        "from sklearn.model_selection import train_test_split\n",
        "train, test= train_test_split(cv_data,test_size=0.3)"
      ]
    },
    {
      "cell_type": "code",
      "execution_count": null,
      "metadata": {
        "colab": {
          "base_uri": "https://localhost:8080/"
        },
        "id": "H1Ymq30oDazK",
        "outputId": "11b45a32-9ece-4a81-b54f-8ec3187f2d82"
      },
      "outputs": [
        {
          "output_type": "execute_result",
          "data": {
            "text/plain": [
              "(291, 125)"
            ]
          },
          "metadata": {},
          "execution_count": 19
        }
      ],
      "source": [
        "len(train), len(test) #no correr, es prueba"
      ]
    },
    {
      "cell_type": "code",
      "execution_count": null,
      "metadata": {
        "colab": {
          "base_uri": "https://localhost:8080/"
        },
        "id": "sc-RJ7-jDpxk",
        "outputId": "9929eaa6-d879-4ad7-e501-80a528685e32"
      },
      "outputs": [
        {
          "output_type": "stream",
          "name": "stderr",
          "text": [
            "100%|██████████| 291/291 [00:01<00:00, 250.49it/s]\n",
            "100%|██████████| 125/125 [00:00<00:00, 238.78it/s]\n"
          ]
        }
      ],
      "source": [
        "file=open('error.text','w+')\n",
        "\n",
        "db=get_spacy_doc(file,train)\n",
        "db.to_disk(\"train_data.spacy\")\n",
        "\n",
        "db=get_spacy_doc(file,test)\n",
        "db.to_disk(\"test_data.spacy\")\n",
        "\n",
        "file.close()"
      ]
    },
    {
      "cell_type": "code",
      "execution_count": null,
      "metadata": {
        "id": "MgWGJCBaDqmd",
        "colab": {
          "base_uri": "https://localhost:8080/"
        },
        "outputId": "c58f5d4f-1999-4e19-976b-2b094b90940d"
      },
      "outputs": [
        {
          "output_type": "execute_result",
          "data": {
            "text/plain": [
              "125"
            ]
          },
          "metadata": {},
          "execution_count": 21
        }
      ],
      "source": [
        "len(db.tokens)"
      ]
    },
    {
      "cell_type": "code",
      "execution_count": 34,
      "metadata": {
        "colab": {
          "base_uri": "https://localhost:8080/"
        },
        "id": "4NQ--WMIDqc0",
        "outputId": "280a2437-4301-4602-835b-6e1773e3a842"
      },
      "outputs": [
        {
          "output_type": "stream",
          "name": "stdout",
          "text": [
            "\u001b[38;5;4mℹ Saving to output directory: output\u001b[0m\n",
            "\u001b[38;5;4mℹ Using GPU: 0\u001b[0m\n",
            "\u001b[1m\n",
            "=========================== Initializing pipeline ===========================\u001b[0m\n",
            "[2022-08-23 21:33:38,546] [INFO] Set up nlp object from config\n",
            "[2022-08-23 21:33:38,556] [INFO] Pipeline: ['transformer', 'ner']\n",
            "[2022-08-23 21:33:38,562] [INFO] Created vocabulary\n",
            "[2022-08-23 21:33:38,563] [INFO] Finished initializing nlp object\n",
            "Some weights of the model checkpoint at dccuchile/bert-base-spanish-wwm-cased were not used when initializing BertModel: ['cls.predictions.transform.LayerNorm.weight', 'cls.predictions.bias', 'cls.predictions.transform.LayerNorm.bias', 'cls.predictions.decoder.bias', 'cls.predictions.decoder.weight', 'cls.predictions.transform.dense.bias', 'cls.predictions.transform.dense.weight']\n",
            "- This IS expected if you are initializing BertModel from the checkpoint of a model trained on another task or with another architecture (e.g. initializing a BertForSequenceClassification model from a BertForPreTraining model).\n",
            "- This IS NOT expected if you are initializing BertModel from the checkpoint of a model that you expect to be exactly identical (initializing a BertForSequenceClassification model from a BertForSequenceClassification model).\n",
            "Some weights of BertModel were not initialized from the model checkpoint at dccuchile/bert-base-spanish-wwm-cased and are newly initialized: ['bert.pooler.dense.weight', 'bert.pooler.dense.bias']\n",
            "You should probably TRAIN this model on a down-stream task to be able to use it for predictions and inference.\n",
            "[2022-08-23 21:33:46,857] [INFO] Initialized pipeline components: ['transformer', 'ner']\n",
            "\u001b[38;5;2m✔ Initialized pipeline\u001b[0m\n",
            "\u001b[1m\n",
            "============================= Training pipeline =============================\u001b[0m\n",
            "\u001b[38;5;4mℹ Pipeline: ['transformer', 'ner']\u001b[0m\n",
            "\u001b[38;5;4mℹ Initial learn rate: 0.0\u001b[0m\n",
            "E    #       LOSS TRANS...  LOSS NER  ENTS_F  ENTS_P  ENTS_R  SCORE \n",
            "---  ------  -------------  --------  ------  ------  ------  ------\n",
            "  0       0         562.55   1373.55    0.00    0.00    0.00    0.00\n",
            "  0      20       15005.00  36457.51    0.00    0.00    0.00    0.00\n",
            "  0      40       17745.38  34031.99    0.00    0.00    0.00    0.00\n",
            "  1      60       20455.66  17552.65    0.00    0.00    0.00    0.00\n",
            "  1      80       13664.37  10869.22    0.00    0.00    0.00    0.00\n",
            "  2     100       24237.93   9251.61    0.00    0.00    0.00    0.00\n",
            "  2     120       13740.42  11093.40    0.00    0.00    0.00    0.00\n",
            "  3     140       50133.97   9187.90    0.00    0.00    0.00    0.00\n",
            "  3     160       13907.71  10746.74    0.00    0.00    0.00    0.00\n",
            "  4     180        1772.89   8987.04    0.00    0.00    0.00    0.00\n",
            "  4     200        4424.54   9986.88    0.00    0.00    0.00    0.00\n",
            "\u001b[38;5;2m✔ Saved pipeline to output directory\u001b[0m\n",
            "output/model-last\n"
          ]
        }
      ],
      "source": [
        "!python -m spacy train /content/config.cfg --output ./output --paths.train /content/train_data.spacy --paths.dev /content/test_data.spacy --gpu-id 0"
      ]
    },
    {
      "cell_type": "code",
      "source": [
        "nlp.to_disk(\"./es_example_pipeline\")"
      ],
      "metadata": {
        "id": "0OXNG7juteOT"
      },
      "execution_count": 35,
      "outputs": []
    },
    {
      "cell_type": "code",
      "source": [
        "from google.colab import drive\n",
        "drive.mount('/content/drive')"
      ],
      "metadata": {
        "colab": {
          "base_uri": "https://localhost:8080/",
          "height": 345
        },
        "id": "yP9u4QXCZ97f",
        "outputId": "5ba36166-73c7-4c54-fcd0-ee8c7bd1bace"
      },
      "execution_count": null,
      "outputs": [
        {
          "output_type": "error",
          "ename": "MessageError",
          "evalue": "ignored",
          "traceback": [
            "\u001b[0;31m---------------------------------------------------------------------------\u001b[0m",
            "\u001b[0;31mMessageError\u001b[0m                              Traceback (most recent call last)",
            "\u001b[0;32m<ipython-input-23-d5df0069828e>\u001b[0m in \u001b[0;36m<module>\u001b[0;34m\u001b[0m\n\u001b[1;32m      1\u001b[0m \u001b[0;32mfrom\u001b[0m \u001b[0mgoogle\u001b[0m\u001b[0;34m.\u001b[0m\u001b[0mcolab\u001b[0m \u001b[0;32mimport\u001b[0m \u001b[0mdrive\u001b[0m\u001b[0;34m\u001b[0m\u001b[0;34m\u001b[0m\u001b[0m\n\u001b[0;32m----> 2\u001b[0;31m \u001b[0mdrive\u001b[0m\u001b[0;34m.\u001b[0m\u001b[0mmount\u001b[0m\u001b[0;34m(\u001b[0m\u001b[0;34m'/content/drive'\u001b[0m\u001b[0;34m)\u001b[0m\u001b[0;34m\u001b[0m\u001b[0;34m\u001b[0m\u001b[0m\n\u001b[0m",
            "\u001b[0;32m/usr/local/lib/python3.7/dist-packages/google/colab/drive.py\u001b[0m in \u001b[0;36mmount\u001b[0;34m(mountpoint, force_remount, timeout_ms)\u001b[0m\n\u001b[1;32m    103\u001b[0m       \u001b[0mforce_remount\u001b[0m\u001b[0;34m=\u001b[0m\u001b[0mforce_remount\u001b[0m\u001b[0;34m,\u001b[0m\u001b[0;34m\u001b[0m\u001b[0;34m\u001b[0m\u001b[0m\n\u001b[1;32m    104\u001b[0m       \u001b[0mtimeout_ms\u001b[0m\u001b[0;34m=\u001b[0m\u001b[0mtimeout_ms\u001b[0m\u001b[0;34m,\u001b[0m\u001b[0;34m\u001b[0m\u001b[0;34m\u001b[0m\u001b[0m\n\u001b[0;32m--> 105\u001b[0;31m       ephemeral=True)\n\u001b[0m\u001b[1;32m    106\u001b[0m \u001b[0;34m\u001b[0m\u001b[0m\n\u001b[1;32m    107\u001b[0m \u001b[0;34m\u001b[0m\u001b[0m\n",
            "\u001b[0;32m/usr/local/lib/python3.7/dist-packages/google/colab/drive.py\u001b[0m in \u001b[0;36m_mount\u001b[0;34m(mountpoint, force_remount, timeout_ms, ephemeral)\u001b[0m\n\u001b[1;32m    118\u001b[0m   \u001b[0;32mif\u001b[0m \u001b[0mephemeral\u001b[0m\u001b[0;34m:\u001b[0m\u001b[0;34m\u001b[0m\u001b[0;34m\u001b[0m\u001b[0m\n\u001b[1;32m    119\u001b[0m     _message.blocking_request(\n\u001b[0;32m--> 120\u001b[0;31m         'request_auth', request={'authType': 'dfs_ephemeral'}, timeout_sec=None)\n\u001b[0m\u001b[1;32m    121\u001b[0m \u001b[0;34m\u001b[0m\u001b[0m\n\u001b[1;32m    122\u001b[0m   \u001b[0mmountpoint\u001b[0m \u001b[0;34m=\u001b[0m \u001b[0m_os\u001b[0m\u001b[0;34m.\u001b[0m\u001b[0mpath\u001b[0m\u001b[0;34m.\u001b[0m\u001b[0mexpanduser\u001b[0m\u001b[0;34m(\u001b[0m\u001b[0mmountpoint\u001b[0m\u001b[0;34m)\u001b[0m\u001b[0;34m\u001b[0m\u001b[0;34m\u001b[0m\u001b[0m\n",
            "\u001b[0;32m/usr/local/lib/python3.7/dist-packages/google/colab/_message.py\u001b[0m in \u001b[0;36mblocking_request\u001b[0;34m(request_type, request, timeout_sec, parent)\u001b[0m\n\u001b[1;32m    169\u001b[0m   request_id = send_request(\n\u001b[1;32m    170\u001b[0m       request_type, request, parent=parent, expect_reply=True)\n\u001b[0;32m--> 171\u001b[0;31m   \u001b[0;32mreturn\u001b[0m \u001b[0mread_reply_from_input\u001b[0m\u001b[0;34m(\u001b[0m\u001b[0mrequest_id\u001b[0m\u001b[0;34m,\u001b[0m \u001b[0mtimeout_sec\u001b[0m\u001b[0;34m)\u001b[0m\u001b[0;34m\u001b[0m\u001b[0;34m\u001b[0m\u001b[0m\n\u001b[0m",
            "\u001b[0;32m/usr/local/lib/python3.7/dist-packages/google/colab/_message.py\u001b[0m in \u001b[0;36mread_reply_from_input\u001b[0;34m(message_id, timeout_sec)\u001b[0m\n\u001b[1;32m    100\u001b[0m         reply.get('colab_msg_id') == message_id):\n\u001b[1;32m    101\u001b[0m       \u001b[0;32mif\u001b[0m \u001b[0;34m'error'\u001b[0m \u001b[0;32min\u001b[0m \u001b[0mreply\u001b[0m\u001b[0;34m:\u001b[0m\u001b[0;34m\u001b[0m\u001b[0;34m\u001b[0m\u001b[0m\n\u001b[0;32m--> 102\u001b[0;31m         \u001b[0;32mraise\u001b[0m \u001b[0mMessageError\u001b[0m\u001b[0;34m(\u001b[0m\u001b[0mreply\u001b[0m\u001b[0;34m[\u001b[0m\u001b[0;34m'error'\u001b[0m\u001b[0;34m]\u001b[0m\u001b[0;34m)\u001b[0m\u001b[0;34m\u001b[0m\u001b[0;34m\u001b[0m\u001b[0m\n\u001b[0m\u001b[1;32m    103\u001b[0m       \u001b[0;32mreturn\u001b[0m \u001b[0mreply\u001b[0m\u001b[0;34m.\u001b[0m\u001b[0mget\u001b[0m\u001b[0;34m(\u001b[0m\u001b[0;34m'data'\u001b[0m\u001b[0;34m,\u001b[0m \u001b[0;32mNone\u001b[0m\u001b[0;34m)\u001b[0m\u001b[0;34m\u001b[0m\u001b[0;34m\u001b[0m\u001b[0m\n\u001b[1;32m    104\u001b[0m \u001b[0;34m\u001b[0m\u001b[0m\n",
            "\u001b[0;31mMessageError\u001b[0m: Error: credential propagation was unsuccessful"
          ]
        }
      ]
    },
    {
      "cell_type": "code",
      "source": [
        "model_save_name = 'output'\n",
        "path = F\"/content/gdrive/My Drive/{model_save_name}\" \n",
        "torch.save(model.state_dict(), path)"
      ],
      "metadata": {
        "colab": {
          "base_uri": "https://localhost:8080/",
          "height": 200
        },
        "id": "p8GMqEK6aPbJ",
        "outputId": "42accb1d-a1c6-4ecf-9730-8316f365befa"
      },
      "execution_count": null,
      "outputs": [
        {
          "output_type": "error",
          "ename": "NameError",
          "evalue": "ignored",
          "traceback": [
            "\u001b[0;31m---------------------------------------------------------------------------\u001b[0m",
            "\u001b[0;31mNameError\u001b[0m                                 Traceback (most recent call last)",
            "\u001b[0;32m<ipython-input-24-6c2edb4f5b70>\u001b[0m in \u001b[0;36m<module>\u001b[0;34m\u001b[0m\n\u001b[1;32m      1\u001b[0m \u001b[0mmodel_save_name\u001b[0m \u001b[0;34m=\u001b[0m \u001b[0;34m'output'\u001b[0m\u001b[0;34m\u001b[0m\u001b[0;34m\u001b[0m\u001b[0m\n\u001b[1;32m      2\u001b[0m \u001b[0mpath\u001b[0m \u001b[0;34m=\u001b[0m \u001b[0;34mF\"/content/gdrive/My Drive/{model_save_name}\"\u001b[0m\u001b[0;34m\u001b[0m\u001b[0;34m\u001b[0m\u001b[0m\n\u001b[0;32m----> 3\u001b[0;31m \u001b[0mtorch\u001b[0m\u001b[0;34m.\u001b[0m\u001b[0msave\u001b[0m\u001b[0;34m(\u001b[0m\u001b[0mmodel\u001b[0m\u001b[0;34m.\u001b[0m\u001b[0mstate_dict\u001b[0m\u001b[0;34m(\u001b[0m\u001b[0;34m)\u001b[0m\u001b[0;34m,\u001b[0m \u001b[0mpath\u001b[0m\u001b[0;34m)\u001b[0m\u001b[0;34m\u001b[0m\u001b[0;34m\u001b[0m\u001b[0m\n\u001b[0m",
            "\u001b[0;31mNameError\u001b[0m: name 'torch' is not defined"
          ]
        }
      ]
    },
    {
      "cell_type": "code",
      "execution_count": null,
      "metadata": {
        "id": "kCGeuV2oDqad",
        "colab": {
          "base_uri": "https://localhost:8080/",
          "height": 1000
        },
        "outputId": "16f79f5d-0dd1-4b8f-be4f-99c290bc3d76"
      },
      "outputs": [
        {
          "output_type": "stream",
          "name": "stdout",
          "text": [
            "Looking in indexes: https://pypi.org/simple, https://us-python.pkg.dev/colab-wheels/public/simple/\n",
            "Requirement already satisfied: spacy_transformers in /usr/local/lib/python3.7/dist-packages (1.1.8)\n",
            "Requirement already satisfied: spacy<4.0.0,>=3.4.0 in /usr/local/lib/python3.7/dist-packages (from spacy_transformers) (3.4.1)\n",
            "Requirement already satisfied: transformers<4.22.0,>=3.4.0 in /usr/local/lib/python3.7/dist-packages (from spacy_transformers) (4.21.1)\n",
            "Requirement already satisfied: spacy-alignments<1.0.0,>=0.7.2 in /usr/local/lib/python3.7/dist-packages (from spacy_transformers) (0.8.5)\n",
            "Requirement already satisfied: torch>=1.6.0 in /usr/local/lib/python3.7/dist-packages (from spacy_transformers) (1.12.1+cu113)\n",
            "Requirement already satisfied: srsly<3.0.0,>=2.4.0 in /usr/local/lib/python3.7/dist-packages (from spacy_transformers) (2.4.4)\n",
            "Requirement already satisfied: spacy-legacy<3.1.0,>=3.0.9 in /usr/local/lib/python3.7/dist-packages (from spacy<4.0.0,>=3.4.0->spacy_transformers) (3.0.10)\n",
            "Requirement already satisfied: langcodes<4.0.0,>=3.2.0 in /usr/local/lib/python3.7/dist-packages (from spacy<4.0.0,>=3.4.0->spacy_transformers) (3.3.0)\n",
            "Requirement already satisfied: packaging>=20.0 in /usr/local/lib/python3.7/dist-packages (from spacy<4.0.0,>=3.4.0->spacy_transformers) (21.3)\n",
            "Requirement already satisfied: typer<0.5.0,>=0.3.0 in /usr/local/lib/python3.7/dist-packages (from spacy<4.0.0,>=3.4.0->spacy_transformers) (0.4.2)\n",
            "Requirement already satisfied: pydantic!=1.8,!=1.8.1,<1.10.0,>=1.7.4 in /usr/local/lib/python3.7/dist-packages (from spacy<4.0.0,>=3.4.0->spacy_transformers) (1.9.2)\n",
            "Requirement already satisfied: spacy-loggers<2.0.0,>=1.0.0 in /usr/local/lib/python3.7/dist-packages (from spacy<4.0.0,>=3.4.0->spacy_transformers) (1.0.3)\n",
            "Requirement already satisfied: wasabi<1.1.0,>=0.9.1 in /usr/local/lib/python3.7/dist-packages (from spacy<4.0.0,>=3.4.0->spacy_transformers) (0.10.1)\n",
            "Requirement already satisfied: catalogue<2.1.0,>=2.0.6 in /usr/local/lib/python3.7/dist-packages (from spacy<4.0.0,>=3.4.0->spacy_transformers) (2.0.8)\n",
            "Requirement already satisfied: cymem<2.1.0,>=2.0.2 in /usr/local/lib/python3.7/dist-packages (from spacy<4.0.0,>=3.4.0->spacy_transformers) (2.0.6)\n",
            "Requirement already satisfied: requests<3.0.0,>=2.13.0 in /usr/local/lib/python3.7/dist-packages (from spacy<4.0.0,>=3.4.0->spacy_transformers) (2.23.0)\n",
            "Requirement already satisfied: typing-extensions<4.2.0,>=3.7.4 in /usr/local/lib/python3.7/dist-packages (from spacy<4.0.0,>=3.4.0->spacy_transformers) (4.1.1)\n",
            "Requirement already satisfied: thinc<8.2.0,>=8.1.0 in /usr/local/lib/python3.7/dist-packages (from spacy<4.0.0,>=3.4.0->spacy_transformers) (8.1.0)\n",
            "Requirement already satisfied: preshed<3.1.0,>=3.0.2 in /usr/local/lib/python3.7/dist-packages (from spacy<4.0.0,>=3.4.0->spacy_transformers) (3.0.7)\n",
            "Requirement already satisfied: pathy>=0.3.5 in /usr/local/lib/python3.7/dist-packages (from spacy<4.0.0,>=3.4.0->spacy_transformers) (0.6.2)\n",
            "Requirement already satisfied: setuptools in /usr/local/lib/python3.7/dist-packages (from spacy<4.0.0,>=3.4.0->spacy_transformers) (57.4.0)\n",
            "Requirement already satisfied: tqdm<5.0.0,>=4.38.0 in /usr/local/lib/python3.7/dist-packages (from spacy<4.0.0,>=3.4.0->spacy_transformers) (4.64.0)\n",
            "Requirement already satisfied: murmurhash<1.1.0,>=0.28.0 in /usr/local/lib/python3.7/dist-packages (from spacy<4.0.0,>=3.4.0->spacy_transformers) (1.0.8)\n",
            "Requirement already satisfied: numpy>=1.15.0 in /usr/local/lib/python3.7/dist-packages (from spacy<4.0.0,>=3.4.0->spacy_transformers) (1.21.6)\n",
            "Requirement already satisfied: jinja2 in /usr/local/lib/python3.7/dist-packages (from spacy<4.0.0,>=3.4.0->spacy_transformers) (2.11.3)\n",
            "Requirement already satisfied: zipp>=0.5 in /usr/local/lib/python3.7/dist-packages (from catalogue<2.1.0,>=2.0.6->spacy<4.0.0,>=3.4.0->spacy_transformers) (3.8.1)\n",
            "Requirement already satisfied: pyparsing!=3.0.5,>=2.0.2 in /usr/local/lib/python3.7/dist-packages (from packaging>=20.0->spacy<4.0.0,>=3.4.0->spacy_transformers) (3.0.9)\n",
            "Requirement already satisfied: smart-open<6.0.0,>=5.2.1 in /usr/local/lib/python3.7/dist-packages (from pathy>=0.3.5->spacy<4.0.0,>=3.4.0->spacy_transformers) (5.2.1)\n",
            "Requirement already satisfied: chardet<4,>=3.0.2 in /usr/local/lib/python3.7/dist-packages (from requests<3.0.0,>=2.13.0->spacy<4.0.0,>=3.4.0->spacy_transformers) (3.0.4)\n",
            "Requirement already satisfied: urllib3!=1.25.0,!=1.25.1,<1.26,>=1.21.1 in /usr/local/lib/python3.7/dist-packages (from requests<3.0.0,>=2.13.0->spacy<4.0.0,>=3.4.0->spacy_transformers) (1.24.3)\n",
            "Requirement already satisfied: certifi>=2017.4.17 in /usr/local/lib/python3.7/dist-packages (from requests<3.0.0,>=2.13.0->spacy<4.0.0,>=3.4.0->spacy_transformers) (2022.6.15)\n",
            "Requirement already satisfied: idna<3,>=2.5 in /usr/local/lib/python3.7/dist-packages (from requests<3.0.0,>=2.13.0->spacy<4.0.0,>=3.4.0->spacy_transformers) (2.10)\n",
            "Requirement already satisfied: blis<0.8.0,>=0.7.8 in /usr/local/lib/python3.7/dist-packages (from thinc<8.2.0,>=8.1.0->spacy<4.0.0,>=3.4.0->spacy_transformers) (0.7.8)\n",
            "Requirement already satisfied: tokenizers!=0.11.3,<0.13,>=0.11.1 in /usr/local/lib/python3.7/dist-packages (from transformers<4.22.0,>=3.4.0->spacy_transformers) (0.12.1)\n",
            "Requirement already satisfied: importlib-metadata in /usr/local/lib/python3.7/dist-packages (from transformers<4.22.0,>=3.4.0->spacy_transformers) (4.12.0)\n",
            "Requirement already satisfied: pyyaml>=5.1 in /usr/local/lib/python3.7/dist-packages (from transformers<4.22.0,>=3.4.0->spacy_transformers) (6.0)\n",
            "Requirement already satisfied: huggingface-hub<1.0,>=0.1.0 in /usr/local/lib/python3.7/dist-packages (from transformers<4.22.0,>=3.4.0->spacy_transformers) (0.9.0)\n",
            "Requirement already satisfied: regex!=2019.12.17 in /usr/local/lib/python3.7/dist-packages (from transformers<4.22.0,>=3.4.0->spacy_transformers) (2022.6.2)\n",
            "Requirement already satisfied: filelock in /usr/local/lib/python3.7/dist-packages (from transformers<4.22.0,>=3.4.0->spacy_transformers) (3.8.0)\n",
            "Requirement already satisfied: click<9.0.0,>=7.1.1 in /usr/local/lib/python3.7/dist-packages (from typer<0.5.0,>=0.3.0->spacy<4.0.0,>=3.4.0->spacy_transformers) (7.1.2)\n",
            "Requirement already satisfied: MarkupSafe>=0.23 in /usr/local/lib/python3.7/dist-packages (from jinja2->spacy<4.0.0,>=3.4.0->spacy_transformers) (2.0.1)\n"
          ]
        },
        {
          "output_type": "error",
          "ename": "ValueError",
          "evalue": "ignored",
          "traceback": [
            "\u001b[0;31m---------------------------------------------------------------------------\u001b[0m",
            "\u001b[0;31mValueError\u001b[0m                                Traceback (most recent call last)",
            "\u001b[0;32m<ipython-input-25-a1f3265a0952>\u001b[0m in \u001b[0;36m<module>\u001b[0;34m\u001b[0m\n\u001b[1;32m      1\u001b[0m \u001b[0mget_ipython\u001b[0m\u001b[0;34m(\u001b[0m\u001b[0;34m)\u001b[0m\u001b[0;34m.\u001b[0m\u001b[0msystem\u001b[0m\u001b[0;34m(\u001b[0m\u001b[0;34m'pip install spacy_transformers'\u001b[0m\u001b[0;34m)\u001b[0m\u001b[0;34m\u001b[0m\u001b[0;34m\u001b[0m\u001b[0m\n\u001b[0;32m----> 2\u001b[0;31m \u001b[0mnlp\u001b[0m\u001b[0;34m=\u001b[0m\u001b[0mspacy\u001b[0m\u001b[0;34m.\u001b[0m\u001b[0mload\u001b[0m\u001b[0;34m(\u001b[0m\u001b[0;34m'/content/output/model-best'\u001b[0m\u001b[0;34m)\u001b[0m\u001b[0;34m\u001b[0m\u001b[0;34m\u001b[0m\u001b[0m\n\u001b[0m",
            "\u001b[0;32m/usr/local/lib/python3.7/dist-packages/spacy/__init__.py\u001b[0m in \u001b[0;36mload\u001b[0;34m(name, vocab, disable, enable, exclude, config)\u001b[0m\n\u001b[1;32m     58\u001b[0m         \u001b[0menable\u001b[0m\u001b[0;34m=\u001b[0m\u001b[0menable\u001b[0m\u001b[0;34m,\u001b[0m\u001b[0;34m\u001b[0m\u001b[0;34m\u001b[0m\u001b[0m\n\u001b[1;32m     59\u001b[0m         \u001b[0mexclude\u001b[0m\u001b[0;34m=\u001b[0m\u001b[0mexclude\u001b[0m\u001b[0;34m,\u001b[0m\u001b[0;34m\u001b[0m\u001b[0;34m\u001b[0m\u001b[0m\n\u001b[0;32m---> 60\u001b[0;31m         \u001b[0mconfig\u001b[0m\u001b[0;34m=\u001b[0m\u001b[0mconfig\u001b[0m\u001b[0;34m,\u001b[0m\u001b[0;34m\u001b[0m\u001b[0;34m\u001b[0m\u001b[0m\n\u001b[0m\u001b[1;32m     61\u001b[0m     )\n\u001b[1;32m     62\u001b[0m \u001b[0;34m\u001b[0m\u001b[0m\n",
            "\u001b[0;32m/usr/local/lib/python3.7/dist-packages/spacy/util.py\u001b[0m in \u001b[0;36mload_model\u001b[0;34m(name, vocab, disable, enable, exclude, config)\u001b[0m\n\u001b[1;32m    429\u001b[0m             \u001b[0;32mreturn\u001b[0m \u001b[0mload_model_from_package\u001b[0m\u001b[0;34m(\u001b[0m\u001b[0mname\u001b[0m\u001b[0;34m,\u001b[0m \u001b[0;34m**\u001b[0m\u001b[0mkwargs\u001b[0m\u001b[0;34m)\u001b[0m  \u001b[0;31m# type: ignore[arg-type]\u001b[0m\u001b[0;34m\u001b[0m\u001b[0;34m\u001b[0m\u001b[0m\n\u001b[1;32m    430\u001b[0m         \u001b[0;32mif\u001b[0m \u001b[0mPath\u001b[0m\u001b[0;34m(\u001b[0m\u001b[0mname\u001b[0m\u001b[0;34m)\u001b[0m\u001b[0;34m.\u001b[0m\u001b[0mexists\u001b[0m\u001b[0;34m(\u001b[0m\u001b[0;34m)\u001b[0m\u001b[0;34m:\u001b[0m  \u001b[0;31m# path to model data directory\u001b[0m\u001b[0;34m\u001b[0m\u001b[0;34m\u001b[0m\u001b[0m\n\u001b[0;32m--> 431\u001b[0;31m             \u001b[0;32mreturn\u001b[0m \u001b[0mload_model_from_path\u001b[0m\u001b[0;34m(\u001b[0m\u001b[0mPath\u001b[0m\u001b[0;34m(\u001b[0m\u001b[0mname\u001b[0m\u001b[0;34m)\u001b[0m\u001b[0;34m,\u001b[0m \u001b[0;34m**\u001b[0m\u001b[0mkwargs\u001b[0m\u001b[0;34m)\u001b[0m  \u001b[0;31m# type: ignore[arg-type]\u001b[0m\u001b[0;34m\u001b[0m\u001b[0;34m\u001b[0m\u001b[0m\n\u001b[0m\u001b[1;32m    432\u001b[0m     \u001b[0;32melif\u001b[0m \u001b[0mhasattr\u001b[0m\u001b[0;34m(\u001b[0m\u001b[0mname\u001b[0m\u001b[0;34m,\u001b[0m \u001b[0;34m\"exists\"\u001b[0m\u001b[0;34m)\u001b[0m\u001b[0;34m:\u001b[0m  \u001b[0;31m# Path or Path-like to model data\u001b[0m\u001b[0;34m\u001b[0m\u001b[0;34m\u001b[0m\u001b[0m\n\u001b[1;32m    433\u001b[0m         \u001b[0;32mreturn\u001b[0m \u001b[0mload_model_from_path\u001b[0m\u001b[0;34m(\u001b[0m\u001b[0mname\u001b[0m\u001b[0;34m,\u001b[0m \u001b[0;34m**\u001b[0m\u001b[0mkwargs\u001b[0m\u001b[0;34m)\u001b[0m  \u001b[0;31m# type: ignore[arg-type]\u001b[0m\u001b[0;34m\u001b[0m\u001b[0;34m\u001b[0m\u001b[0m\n",
            "\u001b[0;32m/usr/local/lib/python3.7/dist-packages/spacy/util.py\u001b[0m in \u001b[0;36mload_model_from_path\u001b[0;34m(model_path, meta, vocab, disable, enable, exclude, config)\u001b[0m\n\u001b[1;32m    507\u001b[0m         \u001b[0menable\u001b[0m\u001b[0;34m=\u001b[0m\u001b[0menable\u001b[0m\u001b[0;34m,\u001b[0m\u001b[0;34m\u001b[0m\u001b[0;34m\u001b[0m\u001b[0m\n\u001b[1;32m    508\u001b[0m         \u001b[0mexclude\u001b[0m\u001b[0;34m=\u001b[0m\u001b[0mexclude\u001b[0m\u001b[0;34m,\u001b[0m\u001b[0;34m\u001b[0m\u001b[0;34m\u001b[0m\u001b[0m\n\u001b[0;32m--> 509\u001b[0;31m         \u001b[0mmeta\u001b[0m\u001b[0;34m=\u001b[0m\u001b[0mmeta\u001b[0m\u001b[0;34m,\u001b[0m\u001b[0;34m\u001b[0m\u001b[0;34m\u001b[0m\u001b[0m\n\u001b[0m\u001b[1;32m    510\u001b[0m     )\n\u001b[1;32m    511\u001b[0m     \u001b[0;32mreturn\u001b[0m \u001b[0mnlp\u001b[0m\u001b[0;34m.\u001b[0m\u001b[0mfrom_disk\u001b[0m\u001b[0;34m(\u001b[0m\u001b[0mmodel_path\u001b[0m\u001b[0;34m,\u001b[0m \u001b[0mexclude\u001b[0m\u001b[0;34m=\u001b[0m\u001b[0mexclude\u001b[0m\u001b[0;34m,\u001b[0m \u001b[0moverrides\u001b[0m\u001b[0;34m=\u001b[0m\u001b[0moverrides\u001b[0m\u001b[0;34m)\u001b[0m\u001b[0;34m\u001b[0m\u001b[0;34m\u001b[0m\u001b[0m\n",
            "\u001b[0;32m/usr/local/lib/python3.7/dist-packages/spacy/util.py\u001b[0m in \u001b[0;36mload_model_from_config\u001b[0;34m(config, meta, vocab, disable, enable, exclude, auto_fill, validate)\u001b[0m\n\u001b[1;32m    557\u001b[0m         \u001b[0mauto_fill\u001b[0m\u001b[0;34m=\u001b[0m\u001b[0mauto_fill\u001b[0m\u001b[0;34m,\u001b[0m\u001b[0;34m\u001b[0m\u001b[0;34m\u001b[0m\u001b[0m\n\u001b[1;32m    558\u001b[0m         \u001b[0mvalidate\u001b[0m\u001b[0;34m=\u001b[0m\u001b[0mvalidate\u001b[0m\u001b[0;34m,\u001b[0m\u001b[0;34m\u001b[0m\u001b[0;34m\u001b[0m\u001b[0m\n\u001b[0;32m--> 559\u001b[0;31m         \u001b[0mmeta\u001b[0m\u001b[0;34m=\u001b[0m\u001b[0mmeta\u001b[0m\u001b[0;34m,\u001b[0m\u001b[0;34m\u001b[0m\u001b[0;34m\u001b[0m\u001b[0m\n\u001b[0m\u001b[1;32m    560\u001b[0m     )\n\u001b[1;32m    561\u001b[0m     \u001b[0;32mreturn\u001b[0m \u001b[0mnlp\u001b[0m\u001b[0;34m\u001b[0m\u001b[0;34m\u001b[0m\u001b[0m\n",
            "\u001b[0;32m/usr/local/lib/python3.7/dist-packages/spacy/language.py\u001b[0m in \u001b[0;36mfrom_config\u001b[0;34m(cls, config, vocab, disable, enable, exclude, meta, auto_fill, validate)\u001b[0m\n\u001b[1;32m   1815\u001b[0m                         \u001b[0mconfig\u001b[0m\u001b[0;34m=\u001b[0m\u001b[0mpipe_cfg\u001b[0m\u001b[0;34m,\u001b[0m\u001b[0;34m\u001b[0m\u001b[0;34m\u001b[0m\u001b[0m\n\u001b[1;32m   1816\u001b[0m                         \u001b[0mvalidate\u001b[0m\u001b[0;34m=\u001b[0m\u001b[0mvalidate\u001b[0m\u001b[0;34m,\u001b[0m\u001b[0;34m\u001b[0m\u001b[0;34m\u001b[0m\u001b[0m\n\u001b[0;32m-> 1817\u001b[0;31m                         \u001b[0mraw_config\u001b[0m\u001b[0;34m=\u001b[0m\u001b[0mraw_config\u001b[0m\u001b[0;34m,\u001b[0m\u001b[0;34m\u001b[0m\u001b[0;34m\u001b[0m\u001b[0m\n\u001b[0m\u001b[1;32m   1818\u001b[0m                     )\n\u001b[1;32m   1819\u001b[0m                 \u001b[0;32melse\u001b[0m\u001b[0;34m:\u001b[0m\u001b[0;34m\u001b[0m\u001b[0;34m\u001b[0m\u001b[0m\n",
            "\u001b[0;32m/usr/local/lib/python3.7/dist-packages/spacy/language.py\u001b[0m in \u001b[0;36madd_pipe\u001b[0;34m(self, factory_name, name, before, after, first, last, source, config, raw_config, validate)\u001b[0m\n\u001b[1;32m    798\u001b[0m                 \u001b[0mconfig\u001b[0m\u001b[0;34m=\u001b[0m\u001b[0mconfig\u001b[0m\u001b[0;34m,\u001b[0m\u001b[0;34m\u001b[0m\u001b[0;34m\u001b[0m\u001b[0m\n\u001b[1;32m    799\u001b[0m                 \u001b[0mraw_config\u001b[0m\u001b[0;34m=\u001b[0m\u001b[0mraw_config\u001b[0m\u001b[0;34m,\u001b[0m\u001b[0;34m\u001b[0m\u001b[0;34m\u001b[0m\u001b[0m\n\u001b[0;32m--> 800\u001b[0;31m                 \u001b[0mvalidate\u001b[0m\u001b[0;34m=\u001b[0m\u001b[0mvalidate\u001b[0m\u001b[0;34m,\u001b[0m\u001b[0;34m\u001b[0m\u001b[0;34m\u001b[0m\u001b[0m\n\u001b[0m\u001b[1;32m    801\u001b[0m             )\n\u001b[1;32m    802\u001b[0m         \u001b[0mpipe_index\u001b[0m \u001b[0;34m=\u001b[0m \u001b[0mself\u001b[0m\u001b[0;34m.\u001b[0m\u001b[0m_get_pipe_index\u001b[0m\u001b[0;34m(\u001b[0m\u001b[0mbefore\u001b[0m\u001b[0;34m,\u001b[0m \u001b[0mafter\u001b[0m\u001b[0;34m,\u001b[0m \u001b[0mfirst\u001b[0m\u001b[0;34m,\u001b[0m \u001b[0mlast\u001b[0m\u001b[0;34m)\u001b[0m\u001b[0;34m\u001b[0m\u001b[0;34m\u001b[0m\u001b[0m\n",
            "\u001b[0;32m/usr/local/lib/python3.7/dist-packages/spacy/language.py\u001b[0m in \u001b[0;36mcreate_pipe\u001b[0;34m(self, factory_name, name, config, raw_config, validate)\u001b[0m\n\u001b[1;32m    653\u001b[0m                 \u001b[0mlang_code\u001b[0m\u001b[0;34m=\u001b[0m\u001b[0mself\u001b[0m\u001b[0;34m.\u001b[0m\u001b[0mlang\u001b[0m\u001b[0;34m,\u001b[0m\u001b[0;34m\u001b[0m\u001b[0;34m\u001b[0m\u001b[0m\n\u001b[1;32m    654\u001b[0m             )\n\u001b[0;32m--> 655\u001b[0;31m             \u001b[0;32mraise\u001b[0m \u001b[0mValueError\u001b[0m\u001b[0;34m(\u001b[0m\u001b[0merr\u001b[0m\u001b[0;34m)\u001b[0m\u001b[0;34m\u001b[0m\u001b[0;34m\u001b[0m\u001b[0m\n\u001b[0m\u001b[1;32m    656\u001b[0m         \u001b[0mpipe_meta\u001b[0m \u001b[0;34m=\u001b[0m \u001b[0mself\u001b[0m\u001b[0;34m.\u001b[0m\u001b[0mget_factory_meta\u001b[0m\u001b[0;34m(\u001b[0m\u001b[0mfactory_name\u001b[0m\u001b[0;34m)\u001b[0m\u001b[0;34m\u001b[0m\u001b[0;34m\u001b[0m\u001b[0m\n\u001b[1;32m    657\u001b[0m         \u001b[0;31m# This is unideal, but the alternative would mean you always need to\u001b[0m\u001b[0;34m\u001b[0m\u001b[0;34m\u001b[0m\u001b[0;34m\u001b[0m\u001b[0m\n",
            "\u001b[0;31mValueError\u001b[0m: [E002] Can't find factory for 'transformer' for language Spanish (es). This usually happens when spaCy calls `nlp.create_pipe` with a custom component name that's not registered on the current language class. If you're using a Transformer, make sure to install 'spacy-transformers'. If you're using a custom component, make sure you've added the decorator `@Language.component` (for function components) or `@Language.factory` (for class components).\n\nAvailable factories: attribute_ruler, tok2vec, merge_noun_chunks, merge_entities, merge_subtokens, token_splitter, doc_cleaner, parser, beam_parser, lemmatizer, trainable_lemmatizer, entity_linker, ner, beam_ner, entity_ruler, tagger, morphologizer, senter, sentencizer, textcat, spancat, future_entity_ruler, span_ruler, textcat_multilabel, es.lemmatizer"
          ]
        }
      ],
      "source": [
        "!pip install spacy_transformers\n",
        "import spacy_transformers\n",
        "nlp=spacy.load('/content/output/model-best')"
      ]
    },
    {
      "cell_type": "code",
      "execution_count": null,
      "metadata": {
        "id": "rAcpmbC2NZiX"
      },
      "outputs": [],
      "source": [
        "doc=nlp('')\n",
        "for ent in doc.ents:\n",
        "  print(ent.text)\n",
        "  print(\"f\")"
      ]
    },
    {
      "cell_type": "code",
      "execution_count": null,
      "metadata": {
        "id": "OtoGU_cQc9af"
      },
      "outputs": [],
      "source": [
        "#se prueba el modelo\n",
        "\n",
        "def prueba_modelo(archivo):\n",
        "  diccio_data = {}\n",
        "  doc_prueba = convert_pdf_to_txt(archivo) \n",
        "  prueba= nlp(doc_prueba)\n",
        "  for ent in prueba.ents():\n",
        "    diccio_data[ent.label]=ent.text\n",
        "  return diccio_data\n"
      ]
    },
    {
      "cell_type": "code",
      "source": [
        "a = prueba_modelo(\"/content/CVG - Hayleen Carrillo.pdf\")\n",
        "for i in a:\n",
        "  print(i)"
      ],
      "metadata": {
        "colab": {
          "base_uri": "https://localhost:8080/",
          "height": 200
        },
        "id": "aDIim1rAOCEX",
        "outputId": "91329b30-d4cd-494f-c1ac-5d7d9065e8a3"
      },
      "execution_count": null,
      "outputs": [
        {
          "output_type": "error",
          "ename": "NameError",
          "evalue": "ignored",
          "traceback": [
            "\u001b[0;31m---------------------------------------------------------------------------\u001b[0m",
            "\u001b[0;31mNameError\u001b[0m                                 Traceback (most recent call last)",
            "\u001b[0;32m<ipython-input-1-402d9c6df1a1>\u001b[0m in \u001b[0;36m<module>\u001b[0;34m\u001b[0m\n\u001b[0;32m----> 1\u001b[0;31m \u001b[0ma\u001b[0m \u001b[0;34m=\u001b[0m \u001b[0mprueba_modelo\u001b[0m\u001b[0;34m(\u001b[0m\u001b[0;34m\"/content/CVG - Hayleen Carrillo.pdf\"\u001b[0m\u001b[0;34m)\u001b[0m\u001b[0;34m\u001b[0m\u001b[0;34m\u001b[0m\u001b[0m\n\u001b[0m\u001b[1;32m      2\u001b[0m \u001b[0;32mfor\u001b[0m \u001b[0mi\u001b[0m \u001b[0;32min\u001b[0m \u001b[0ma\u001b[0m\u001b[0;34m:\u001b[0m\u001b[0;34m\u001b[0m\u001b[0;34m\u001b[0m\u001b[0m\n\u001b[1;32m      3\u001b[0m   \u001b[0mprint\u001b[0m\u001b[0;34m(\u001b[0m\u001b[0mi\u001b[0m\u001b[0;34m)\u001b[0m\u001b[0;34m\u001b[0m\u001b[0;34m\u001b[0m\u001b[0m\n",
            "\u001b[0;31mNameError\u001b[0m: name 'prueba_modelo' is not defined"
          ]
        }
      ]
    },
    {
      "cell_type": "code",
      "source": [
        "!pip install streamlit"
      ],
      "metadata": {
        "id": "Emu95uN0nB5x"
      },
      "execution_count": null,
      "outputs": []
    },
    {
      "cell_type": "code",
      "source": [
        "import streamlit as st"
      ],
      "metadata": {
        "id": "dTM7eVkknCvp"
      },
      "execution_count": null,
      "outputs": []
    },
    {
      "cell_type": "code",
      "source": [
        "%%writefile app.py\n",
        "import streamlit as st\n",
        "import pandas as pd\n",
        "import numpy as np\n"
      ],
      "metadata": {
        "id": "Yqq4YZXgnnH3"
      },
      "execution_count": null,
      "outputs": []
    },
    {
      "cell_type": "code",
      "source": [
        "!zip -r /content/file.zip /content/es_example_pipeline\n"
      ],
      "metadata": {
        "colab": {
          "base_uri": "https://localhost:8080/"
        },
        "id": "qFfJT7ISvPSd",
        "outputId": "64ee5470-a755-4136-9303-13e6639093e2"
      },
      "execution_count": 36,
      "outputs": [
        {
          "output_type": "stream",
          "name": "stdout",
          "text": [
            "  adding: content/es_example_pipeline/ (stored 0%)\n",
            "  adding: content/es_example_pipeline/transformer/ (stored 0%)\n",
            "  adding: content/es_example_pipeline/transformer/cfg (stored 0%)\n",
            "  adding: content/es_example_pipeline/transformer/model (deflated 7%)\n",
            "  adding: content/es_example_pipeline/ner/ (stored 0%)\n",
            "  adding: content/es_example_pipeline/ner/moves (deflated 64%)\n",
            "  adding: content/es_example_pipeline/ner/cfg (deflated 33%)\n",
            "  adding: content/es_example_pipeline/ner/model (deflated 7%)\n",
            "  adding: content/es_example_pipeline/vocab/ (stored 0%)\n",
            "  adding: content/es_example_pipeline/vocab/vectors.cfg (stored 0%)\n",
            "  adding: content/es_example_pipeline/vocab/lookups.bin (stored 0%)\n",
            "  adding: content/es_example_pipeline/vocab/strings.json (deflated 73%)\n",
            "  adding: content/es_example_pipeline/vocab/key2row (stored 0%)\n",
            "  adding: content/es_example_pipeline/vocab/vectors (deflated 45%)\n",
            "  adding: content/es_example_pipeline/config.cfg (deflated 61%)\n",
            "  adding: content/es_example_pipeline/meta.json (deflated 77%)\n",
            "  adding: content/es_example_pipeline/tokenizer (deflated 82%)\n"
          ]
        }
      ]
    }
  ],
  "metadata": {
    "accelerator": "GPU",
    "colab": {
      "collapsed_sections": [],
      "name": "Modelo Resume Parser.ipynb",
      "provenance": [],
      "include_colab_link": true
    },
    "gpuClass": "standard",
    "kernelspec": {
      "display_name": "Python 3",
      "name": "python3"
    },
    "language_info": {
      "name": "python"
    }
  },
  "nbformat": 4,
  "nbformat_minor": 0
}